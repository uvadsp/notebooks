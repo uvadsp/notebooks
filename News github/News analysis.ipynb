{
 "cells": [
  {
   "cell_type": "code",
   "execution_count": 54,
   "metadata": {},
   "outputs": [],
   "source": [
    "import pandas as pd\n",
    "import re\n",
    "import matplotlib.pyplot as plt"
   ]
  },
  {
   "cell_type": "markdown",
   "metadata": {},
   "source": [
    "# News data analysis"
   ]
  },
  {
   "cell_type": "code",
   "execution_count": 55,
   "metadata": {},
   "outputs": [
    {
     "data": {
      "text/html": [
       "<div>\n",
       "<style scoped>\n",
       "    .dataframe tbody tr th:only-of-type {\n",
       "        vertical-align: middle;\n",
       "    }\n",
       "\n",
       "    .dataframe tbody tr th {\n",
       "        vertical-align: top;\n",
       "    }\n",
       "\n",
       "    .dataframe thead th {\n",
       "        text-align: right;\n",
       "    }\n",
       "</style>\n",
       "<table border=\"1\" class=\"dataframe\">\n",
       "  <thead>\n",
       "    <tr style=\"text-align: right;\">\n",
       "      <th></th>\n",
       "      <th>datetime</th>\n",
       "      <th>title</th>\n",
       "      <th>content</th>\n",
       "      <th>category</th>\n",
       "      <th>url</th>\n",
       "    </tr>\n",
       "  </thead>\n",
       "  <tbody>\n",
       "    <tr>\n",
       "      <th>0</th>\n",
       "      <td>2010-01-01 00:49:00</td>\n",
       "      <td>Enige Litouwse kerncentrale dicht</td>\n",
       "      <td>De enige kerncentrale van Litouwen is oudjaars...</td>\n",
       "      <td>Buitenland</td>\n",
       "      <td>https://nos.nl/artikel/126231-enige-litouwse-k...</td>\n",
       "    </tr>\n",
       "    <tr>\n",
       "      <th>1</th>\n",
       "      <td>2010-01-01 02:08:00</td>\n",
       "      <td>Spanje eerste EU-voorzitter onder nieuw verdrag</td>\n",
       "      <td>Spanje is met ingang van vandaag voorzitter va...</td>\n",
       "      <td>Buitenland</td>\n",
       "      <td>https://nos.nl/artikel/126230-spanje-eerste-eu...</td>\n",
       "    </tr>\n",
       "  </tbody>\n",
       "</table>\n",
       "</div>"
      ],
      "text/plain": [
       "              datetime                                            title  \\\n",
       "0  2010-01-01 00:49:00                Enige Litouwse kerncentrale dicht   \n",
       "1  2010-01-01 02:08:00  Spanje eerste EU-voorzitter onder nieuw verdrag   \n",
       "\n",
       "                                             content    category  \\\n",
       "0  De enige kerncentrale van Litouwen is oudjaars...  Buitenland   \n",
       "1  Spanje is met ingang van vandaag voorzitter va...  Buitenland   \n",
       "\n",
       "                                                 url  \n",
       "0  https://nos.nl/artikel/126231-enige-litouwse-k...  \n",
       "1  https://nos.nl/artikel/126230-spanje-eerste-eu...  "
      ]
     },
     "execution_count": 55,
     "metadata": {},
     "output_type": "execute_result"
    }
   ],
   "source": [
    "news = pd.read_csv('dutch-news-articles.csv')\n",
    "news.head(2)"
   ]
  },
  {
   "cell_type": "markdown",
   "metadata": {},
   "source": [
    "## Data preprocessing"
   ]
  },
  {
   "cell_type": "code",
   "execution_count": 56,
   "metadata": {},
   "outputs": [],
   "source": [
    "# convert date for better usage\n",
    "news['datetime'] = pd.to_datetime(news['datetime'])\n",
    "news['date'] = pd.to_datetime(news['datetime'].dt.date)\n",
    "news['year'] = news['datetime'].apply(lambda x: x.strftime('%Y')) \n",
    "news['year'] = news['year'].astype('int')\n",
    "news['week_number'] = news['date'].dt.isocalendar().week"
   ]
  },
  {
   "cell_type": "code",
   "execution_count": 57,
   "metadata": {},
   "outputs": [],
   "source": [
    "# change order of df colums for better interpretation\n",
    "first_column = news.pop('date')\n",
    "second_column = news.pop('year')\n",
    "third_column = news.pop('week_number')\n",
    "\n",
    "news.insert(0, 'date', first_column)\n",
    "news.insert(1, 'year', second_column)\n",
    "news.insert(2, 'week_number', third_column)\n",
    "news = news.drop(['datetime'], axis=1)"
   ]
  },
  {
   "cell_type": "code",
   "execution_count": 58,
   "metadata": {},
   "outputs": [],
   "source": [
    "# lowercase content column and replace some letters\n",
    "news['content'] = news['content'].apply(lambda x: x.lower())\n",
    "news['content'] = news.content.str.replace('ï','i')"
   ]
  },
  {
   "cell_type": "code",
   "execution_count": 59,
   "metadata": {},
   "outputs": [
    {
     "data": {
      "text/html": [
       "<div>\n",
       "<style scoped>\n",
       "    .dataframe tbody tr th:only-of-type {\n",
       "        vertical-align: middle;\n",
       "    }\n",
       "\n",
       "    .dataframe tbody tr th {\n",
       "        vertical-align: top;\n",
       "    }\n",
       "\n",
       "    .dataframe thead th {\n",
       "        text-align: right;\n",
       "    }\n",
       "</style>\n",
       "<table border=\"1\" class=\"dataframe\">\n",
       "  <thead>\n",
       "    <tr style=\"text-align: right;\">\n",
       "      <th></th>\n",
       "      <th>date</th>\n",
       "      <th>year</th>\n",
       "      <th>week_number</th>\n",
       "      <th>title</th>\n",
       "      <th>content</th>\n",
       "      <th>category</th>\n",
       "      <th>url</th>\n",
       "    </tr>\n",
       "  </thead>\n",
       "  <tbody>\n",
       "    <tr>\n",
       "      <th>246455</th>\n",
       "      <td>2022-12-04</td>\n",
       "      <td>2022</td>\n",
       "      <td>48</td>\n",
       "      <td>Vulkaan op Java barst uit: rookpluim van 15 ki...</td>\n",
       "      <td>indonesische autoriteiten hebben de alarmfase ...</td>\n",
       "      <td>Buitenland</td>\n",
       "      <td>https://nos.nl//artikel/2455058-vulkaan-op-jav...</td>\n",
       "    </tr>\n",
       "    <tr>\n",
       "      <th>246456</th>\n",
       "      <td>2022-12-04</td>\n",
       "      <td>2022</td>\n",
       "      <td>48</td>\n",
       "      <td>Iran executeert vier mannen om werk voor inlic...</td>\n",
       "      <td>iran heeft vier mannen geëxecuteerd die ervan...</td>\n",
       "      <td>Buitenland</td>\n",
       "      <td>https://nos.nl//artikel/2455070-iran-executeer...</td>\n",
       "    </tr>\n",
       "  </tbody>\n",
       "</table>\n",
       "</div>"
      ],
      "text/plain": [
       "             date  year  week_number  \\\n",
       "246455 2022-12-04  2022           48   \n",
       "246456 2022-12-04  2022           48   \n",
       "\n",
       "                                                    title  \\\n",
       "246455  Vulkaan op Java barst uit: rookpluim van 15 ki...   \n",
       "246456  Iran executeert vier mannen om werk voor inlic...   \n",
       "\n",
       "                                                  content    category  \\\n",
       "246455  indonesische autoriteiten hebben de alarmfase ...  Buitenland   \n",
       "246456  iran heeft vier mannen geëxecuteerd die ervan...  Buitenland   \n",
       "\n",
       "                                                      url  \n",
       "246455  https://nos.nl//artikel/2455058-vulkaan-op-jav...  \n",
       "246456  https://nos.nl//artikel/2455070-iran-executeer...  "
      ]
     },
     "execution_count": 59,
     "metadata": {},
     "output_type": "execute_result"
    }
   ],
   "source": [
    "news.tail(2)"
   ]
  },
  {
   "cell_type": "markdown",
   "metadata": {},
   "source": [
    "## Data augmentation"
   ]
  },
  {
   "cell_type": "code",
   "execution_count": 60,
   "metadata": {},
   "outputs": [],
   "source": [
    "regional_labels = ['l1mburg', \n",
    "                   'nh nieuws', \n",
    "                   'omroep brabant', \n",
    "                   'omrop frylân', \n",
    "                   'omroep gelderland', \n",
    "                   'omroep west',\n",
    "                   'omroep zeeland',\n",
    "                   'rijnmond',\n",
    "                   'rtv rijnmond',\n",
    "                   'rtv drenthe',\n",
    "                   'rtv noord',\n",
    "                   'rtv oost',\n",
    "                   'rtv utrecht'\n",
    "                  ]\n",
    "\n",
    "def contains_omroep(text):\n",
    "    return [omroep for omroep in regional_labels if omroep in text]\n",
    "\n",
    "drug_labels = ['cocaine',\n",
    "                   'ghb',\n",
    "                   'xtc'\n",
    "                  ]\n",
    "\n",
    "def contains_drug(text):\n",
    "    return [drug for drug in drug_labels if drug in text]"
   ]
  },
  {
   "cell_type": "code",
   "execution_count": 61,
   "metadata": {},
   "outputs": [],
   "source": [
    "# create 'omroep' and 'drugs' columns\n",
    "news['omroep'] = news.content.apply(contains_omroep)\n",
    "news['drugs'] = news.content.apply(contains_drug)\n",
    "\n",
    "# add seperate columns for each drug\n",
    "searchfor_cocaine = ['cocaine', 'cocaïne', 'Cocaine', 'Cocaïne']\n",
    "searchfor_GHB = ['ghb', 'GHB']\n",
    "searchfor_XTC = ['xtc', 'XTC']\n",
    "\n",
    "\n",
    "news['cocaine'] = news.content.str.contains('cocaine')\n",
    "news['ghb'] = news.content.str.contains('ghb')\n",
    "news['xtc'] = news.content.str.contains('xtc')"
   ]
  },
  {
   "cell_type": "markdown",
   "metadata": {},
   "source": [
    "## Data inspection"
   ]
  },
  {
   "cell_type": "code",
   "execution_count": 74,
   "metadata": {},
   "outputs": [
    {
     "data": {
      "text/html": [
       "<div>\n",
       "<style scoped>\n",
       "    .dataframe tbody tr th:only-of-type {\n",
       "        vertical-align: middle;\n",
       "    }\n",
       "\n",
       "    .dataframe tbody tr th {\n",
       "        vertical-align: top;\n",
       "    }\n",
       "\n",
       "    .dataframe thead th {\n",
       "        text-align: right;\n",
       "    }\n",
       "</style>\n",
       "<table border=\"1\" class=\"dataframe\">\n",
       "  <thead>\n",
       "    <tr style=\"text-align: right;\">\n",
       "      <th></th>\n",
       "      <th>date</th>\n",
       "      <th>year</th>\n",
       "      <th>week_number</th>\n",
       "      <th>title</th>\n",
       "      <th>content</th>\n",
       "      <th>category</th>\n",
       "      <th>url</th>\n",
       "      <th>omroep</th>\n",
       "      <th>drugs</th>\n",
       "      <th>cocaine</th>\n",
       "      <th>ghb</th>\n",
       "      <th>xtc</th>\n",
       "    </tr>\n",
       "  </thead>\n",
       "  <tbody>\n",
       "    <tr>\n",
       "      <th>312</th>\n",
       "      <td>2010-01-11</td>\n",
       "      <td>2010</td>\n",
       "      <td>2</td>\n",
       "      <td>Meijboom stelt verbeteringen voor</td>\n",
       "      <td>de rotterdamse korpschef meijboom heeft burgem...</td>\n",
       "      <td>Binnenland</td>\n",
       "      <td>https://nos.nl/artikel/128434-meijboom-stelt-v...</td>\n",
       "      <td>[rijnmond]</td>\n",
       "      <td>[]</td>\n",
       "      <td>False</td>\n",
       "      <td>False</td>\n",
       "      <td>False</td>\n",
       "    </tr>\n",
       "  </tbody>\n",
       "</table>\n",
       "</div>"
      ],
      "text/plain": [
       "          date  year  week_number                              title  \\\n",
       "312 2010-01-11  2010            2  Meijboom stelt verbeteringen voor   \n",
       "\n",
       "                                               content    category  \\\n",
       "312  de rotterdamse korpschef meijboom heeft burgem...  Binnenland   \n",
       "\n",
       "                                                   url      omroep drugs  \\\n",
       "312  https://nos.nl/artikel/128434-meijboom-stelt-v...  [rijnmond]    []   \n",
       "\n",
       "     cocaine    ghb    xtc  \n",
       "312    False  False  False  "
      ]
     },
     "execution_count": 74,
     "metadata": {},
     "output_type": "execute_result"
    }
   ],
   "source": [
    "news[news.omroep.apply(len)>0].head(1)"
   ]
  },
  {
   "cell_type": "code",
   "execution_count": 75,
   "metadata": {},
   "outputs": [
    {
     "data": {
      "text/html": [
       "<div>\n",
       "<style scoped>\n",
       "    .dataframe tbody tr th:only-of-type {\n",
       "        vertical-align: middle;\n",
       "    }\n",
       "\n",
       "    .dataframe tbody tr th {\n",
       "        vertical-align: top;\n",
       "    }\n",
       "\n",
       "    .dataframe thead th {\n",
       "        text-align: right;\n",
       "    }\n",
       "</style>\n",
       "<table border=\"1\" class=\"dataframe\">\n",
       "  <thead>\n",
       "    <tr style=\"text-align: right;\">\n",
       "      <th></th>\n",
       "      <th>date</th>\n",
       "      <th>year</th>\n",
       "      <th>week_number</th>\n",
       "      <th>title</th>\n",
       "      <th>content</th>\n",
       "      <th>category</th>\n",
       "      <th>url</th>\n",
       "      <th>omroep</th>\n",
       "      <th>drugs</th>\n",
       "      <th>cocaine</th>\n",
       "      <th>ghb</th>\n",
       "      <th>xtc</th>\n",
       "    </tr>\n",
       "  </thead>\n",
       "  <tbody>\n",
       "    <tr>\n",
       "      <th>125</th>\n",
       "      <td>2010-01-05</td>\n",
       "      <td>2010</td>\n",
       "      <td>1</td>\n",
       "      <td>1100 kilo cocaïne gevonden tussen de whisky</td>\n",
       "      <td>politie en douane hebben in rotterdam 1100 kil...</td>\n",
       "      <td>Binnenland</td>\n",
       "      <td>https://nos.nl/artikel/127048-1100-kilo-cocain...</td>\n",
       "      <td>[]</td>\n",
       "      <td>[cocaine]</td>\n",
       "      <td>True</td>\n",
       "      <td>False</td>\n",
       "      <td>False</td>\n",
       "    </tr>\n",
       "  </tbody>\n",
       "</table>\n",
       "</div>"
      ],
      "text/plain": [
       "          date  year  week_number  \\\n",
       "125 2010-01-05  2010            1   \n",
       "\n",
       "                                            title  \\\n",
       "125  1100 kilo cocaïne gevonden tussen de whisky   \n",
       "\n",
       "                                               content    category  \\\n",
       "125  politie en douane hebben in rotterdam 1100 kil...  Binnenland   \n",
       "\n",
       "                                                   url omroep      drugs  \\\n",
       "125  https://nos.nl/artikel/127048-1100-kilo-cocain...     []  [cocaine]   \n",
       "\n",
       "     cocaine    ghb    xtc  \n",
       "125     True  False  False  "
      ]
     },
     "execution_count": 75,
     "metadata": {},
     "output_type": "execute_result"
    }
   ],
   "source": [
    "news[news.drugs.apply(len)>0].head(1)"
   ]
  },
  {
   "cell_type": "code",
   "execution_count": 73,
   "metadata": {},
   "outputs": [
    {
     "data": {
      "image/png": "[encoded data removed]",
      "text/plain": [
       "<Figure size 432x288 with 1 Axes>"
      ]
     },
     "metadata": {
      "needs_background": "light"
     },
     "output_type": "display_data"
    }
   ],
   "source": [
    "cocaine = news[news['cocaine'] == True].groupby(['year'])['cocaine'].count()\n",
    "ghb = news[news['ghb'] == True].groupby(['year'])['ghb'].count()\n",
    "xtc = news[news['xtc'] == True].groupby(['year'])['xtc'].count()\n",
    "\n",
    "plt.plot(cocaine.index, cocaine.values, label='cocaine')\n",
    "plt.plot(ghb.index, ghb.values, label='ghb')\n",
    "plt.plot(xtc.index, xtc.values, label='xtc')\n",
    "plt.xlabel('Year')\n",
    "plt.ylabel('Times drugs was mentioned per year')\n",
    "plt.legend()\n",
    "plt.show()\n"
   ]
  },
  {
   "cell_type": "markdown",
   "metadata": {},
   "source": [
    "## Create data subsets for dashboard"
   ]
  },
  {
   "cell_type": "markdown",
   "metadata": {},
   "source": [
    "### compute absolute scores for drug articles per week per drug"
   ]
  },
  {
   "cell_type": "code",
   "execution_count": 67,
   "metadata": {},
   "outputs": [],
   "source": [
    "cocaine_absolute = news[news['cocaine'] == True].groupby(['year', 'week_number'])['content'].count()\n",
    "xtc_absolute = news[news['xtc'] == True].groupby(['year', 'week_number'])['content'].count()\n",
    "ghb_absolute = news[news['xtc'] == True].groupby(['year', 'week_number'])['content'].count()"
   ]
  },
  {
   "cell_type": "markdown",
   "metadata": {},
   "source": [
    "### Compute relative scores for drug articles per week per drug"
   ]
  },
  {
   "cell_type": "markdown",
   "metadata": {},
   "source": [
    "#### Cocaine"
   ]
  },
  {
   "cell_type": "code",
   "execution_count": 83,
   "metadata": {},
   "outputs": [],
   "source": [
    "# apply grouping\n",
    "average_per_week = news.groupby(['year'])['week_number'].count() / 52\n",
    "articles_per_week = news[news['cocaine'] == True].groupby(['year', 'week_number'])['content'].count()\n",
    "max_articles_per_year = articles_per_week.groupby(level=0).apply(max)\n",
    "min_articles_per_year = articles_per_week.groupby(level=0).apply(min)\n",
    "\n",
    "# make relative\n",
    "relative_articles_per_week = articles_per_week / average_per_week\n",
    "max_articles_per_year = relative_articles_per_week.groupby(level=0).apply(max)\n",
    "\n",
    "# normalize\n",
    "cocaine_relative = relative_articles_per_week / max_articles_per_year * 100"
   ]
  },
  {
   "cell_type": "markdown",
   "metadata": {},
   "source": [
    "#### XTC"
   ]
  },
  {
   "cell_type": "code",
   "execution_count": 84,
   "metadata": {},
   "outputs": [],
   "source": [
    "# apply grouping\n",
    "average_per_week = news.groupby(['year'])['week_number'].count() / 52\n",
    "articles_per_week = news[news['xtc'] == True].groupby(['year', 'week_number'])['content'].count()\n",
    "max_articles_per_year = articles_per_week.groupby(level=0).apply(max)\n",
    "min_articles_per_year = articles_per_week.groupby(level=0).apply(min)\n",
    "\n",
    "# make relative\n",
    "relative_articles_per_week = articles_per_week / average_per_week\n",
    "max_articles_per_year = relative_articles_per_week.groupby(level=0).apply(max)\n",
    "\n",
    "# normalize\n",
    "xtc_relative = relative_articles_per_week / max_articles_per_year * 100"
   ]
  },
  {
   "cell_type": "markdown",
   "metadata": {},
   "source": [
    "#### GHB"
   ]
  },
  {
   "cell_type": "code",
   "execution_count": 85,
   "metadata": {},
   "outputs": [],
   "source": [
    "# apply grouping\n",
    "average_per_week = news.groupby(['year'])['week_number'].count() / 52\n",
    "articles_per_week = news[news['ghb'] == True].groupby(['year', 'week_number'])['content'].count()\n",
    "max_articles_per_year = articles_per_week.groupby(level=0).apply(max)\n",
    "min_articles_per_year = articles_per_week.groupby(level=0).apply(min)\n",
    "\n",
    "# make relative\n",
    "relative_articles_per_week = articles_per_week / average_per_week\n",
    "max_articles_per_year = relative_articles_per_week.groupby(level=0).apply(max)\n",
    "\n",
    "# normalize\n",
    "ghb_relative = relative_articles_per_week / max_articles_per_year * 100"
   ]
  },
  {
   "cell_type": "markdown",
   "metadata": {},
   "source": [
    "## Save subsets as files"
   ]
  },
  {
   "cell_type": "markdown",
   "metadata": {},
   "source": [
    "#### Save absolute files"
   ]
  },
  {
   "cell_type": "code",
   "execution_count": 87,
   "metadata": {},
   "outputs": [],
   "source": [
    "cocaine_absolute.to_csv(\"datasets/absolute_news_acticles_cocaine.csv\")\n",
    "xtc_absolute.to_csv(\"datasets/absolute_news_acticles_xtc.csv\")\n",
    "ghb_absolute.to_csv(\"datasets/absolute_news_acticles_ghb.csv\")"
   ]
  },
  {
   "cell_type": "markdown",
   "metadata": {},
   "source": [
    "#### Save absolute files"
   ]
  },
  {
   "cell_type": "code",
   "execution_count": 88,
   "metadata": {},
   "outputs": [],
   "source": [
    "cocaine_relative.to_csv(\"datasets/relative_news_acticles_cocaine.csv\")\n",
    "xtc_relative.to_csv(\"datasets/relative_news_acticles_xtc.csv\")\n",
    "ghb_relative.to_csv(\"datasets/relative_news_acticles_ghb.csv\")\n"
   ]
  },
  {
   "cell_type": "markdown",
   "metadata": {},
   "source": [
    "#### Save dataset corpus"
   ]
  },
  {
   "cell_type": "code",
   "execution_count": 89,
   "metadata": {},
   "outputs": [],
   "source": [
    "news.to_csv(\"datasets/_news_corpus.csv\")"
   ]
  },
  {
   "cell_type": "code",
   "execution_count": null,
   "metadata": {},
   "outputs": [],
   "source": []
  }
 ],
 "metadata": {
  "kernelspec": {
   "display_name": "Python 3",
   "language": "python",
   "name": "python3"
  },
  "language_info": {
   "codemirror_mode": {
    "name": "ipython",
    "version": 3
   },
   "file_extension": ".py",
   "mimetype": "text/x-python",
   "name": "python",
   "nbconvert_exporter": "python",
   "pygments_lexer": "ipython3",
   "version": "3.8.3"
  }
 },
 "nbformat": 4,
 "nbformat_minor": 4
}
