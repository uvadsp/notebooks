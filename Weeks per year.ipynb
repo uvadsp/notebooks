{
 "cells": [
  {
   "cell_type": "markdown",
   "id": "f09a9673",
   "metadata": {},
   "source": [
    "**Copy this function everywhere you need to handle missing weeks**"
   ]
  },
  {
   "cell_type": "code",
   "execution_count": 4,
   "id": "fac512ea",
   "metadata": {},
   "outputs": [],
   "source": [
    "import warnings\n",
    "warnings.filterwarnings(\"ignore\")\n",
    "\n",
    "import pandas as pd\n",
    "import numpy as np\n",
    "from datetime import datetime"
   ]
  },
  {
   "cell_type": "code",
   "execution_count": 6,
   "id": "4da78514",
   "metadata": {},
   "outputs": [],
   "source": [
    "year_start=2014\n",
    "year_end=2022"
   ]
  },
  {
   "cell_type": "code",
   "execution_count": 16,
   "id": "0d2ed921",
   "metadata": {},
   "outputs": [],
   "source": [
    "def get_weeks(year_start,year_end):\n",
    "    # The date range that we query\n",
    "    datelist = pd.date_range(f'{year_start}-01-01', f'{year_end+1}-01-01').to_series()\n",
    "\n",
    "    # Extract year and week \n",
    "    year = datelist.apply(lambda x: x.strftime('%Y')) \n",
    "    week = datelist.apply(lambda x: x.strftime('%U')).astype(int)\n",
    "\n",
    "    # Combine years and their weeks in one table\n",
    "    data_years = pd.DataFrame(data=[year, week], index=['year', 'week']).T\n",
    "\n",
    "    # Get number of weeks per year\n",
    "    data_weeks = data_years.groupby(['year']).max().to_dict('index')\n",
    "\n",
    "    # Get a list of weeks per year\n",
    "    week_ranges=[]\n",
    "    for year in data_weeks.keys():\n",
    "        week_ranges.append(list(range(1,data_weeks[year]['week']+1)))\n",
    "\n",
    "    # Create a dict with year and exact week numbers\n",
    "    weeks_per_year = dict(zip(list(data_weeks.keys()), week_ranges))\n",
    "    \n",
    "    return weeks_per_year"
   ]
  },
  {
   "cell_type": "code",
   "execution_count": 19,
   "id": "48b2bccb",
   "metadata": {},
   "outputs": [],
   "source": [
    "def find_missing_weeks(data):\n",
    "    year_start = data.year.min()\n",
    "    year_end = data.year.max()\n",
    "    \n",
    "    weeks_per_year=get_weeks(year_start,year_end)\n",
    "    actual_data = data.groupby('year')['week_number'].apply(set).apply(list)\n",
    "\n",
    "    weeks_to_add={}\n",
    "    for year in range(year_start,year_end+1):\n",
    "        weeks1 = get_weeks(year_start,year_end)[str(year)]\n",
    "        weeks2 = actual_data[year]\n",
    "        weeks_to_add[year] = (list(set(weeks1) - set(weeks2)))\n",
    "        \n",
    "    return weeks_to_add"
   ]
  },
  {
   "cell_type": "code",
   "execution_count": 20,
   "id": "91efd483",
   "metadata": {},
   "outputs": [],
   "source": [
    "def handle_missing_weeks(data):\n",
    "    weeks_to_add = find_missing_weeks(data)\n",
    "    \n",
    "    for year in weeks_to_add.keys():\n",
    "        for week in weeks_to_add[year]:\n",
    "            data = data.append({'year':year, 'week_number':week, 'content':0}, ignore_index=True)\n",
    "            \n",
    "    return data.sort_values(['year', 'week_number']).reset_index(drop=True)"
   ]
  },
  {
   "cell_type": "code",
   "execution_count": 18,
   "id": "2aae11b0",
   "metadata": {},
   "outputs": [],
   "source": [
    "# get_weeks(year_start,year_end)"
   ]
  },
  {
   "cell_type": "code",
   "execution_count": null,
   "id": "68fc0bdc",
   "metadata": {},
   "outputs": [],
   "source": []
  }
 ],
 "metadata": {
  "kernelspec": {
   "display_name": "Python 3 (ipykernel)",
   "language": "python",
   "name": "python3"
  },
  "language_info": {
   "codemirror_mode": {
    "name": "ipython",
    "version": 3
   },
   "file_extension": ".py",
   "mimetype": "text/x-python",
   "name": "python",
   "nbconvert_exporter": "python",
   "pygments_lexer": "ipython3",
   "version": "3.10.9"
  }
 },
 "nbformat": 4,
 "nbformat_minor": 5
}
