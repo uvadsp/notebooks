{
 "cells": [
  {
   "cell_type": "code",
   "execution_count": null,
   "metadata": {},
   "outputs": [],
   "source": [
    "import csv\n",
    "import requests\n",
    "import json\n",
    "import os\n",
    "import pandas as pd\n",
    "import matplotlib.pyplot as plt\n",
    "from nltk.corpus import stopwords\n",
    "dutch_stopwords = stopwords.words(\"dutch\")\n",
    "complete_case_url = 'https://uitspraken.rechtspraak.nl/inziendocument?id='"
   ]
  },
  {
   "cell_type": "markdown",
   "metadata": {},
   "source": [
    "### Import Data"
   ]
  },
  {
   "cell_type": "code",
   "execution_count": 1,
   "metadata": {},
   "outputs": [
    {
     "ename": "NameError",
     "evalue": "name 'pd' is not defined",
     "output_type": "error",
     "traceback": [
      "\u001b[0;31m---------------------------------------------------------------------------\u001b[0m",
      "\u001b[0;31mNameError\u001b[0m                                 Traceback (most recent call last)",
      "\u001b[0;32m<ipython-input-1-fbaa213cfdc4>\u001b[0m in \u001b[0;36m<module>\u001b[0;34m\u001b[0m\n\u001b[0;32m----> 1\u001b[0;31m \u001b[0mnos_df\u001b[0m \u001b[0;34m=\u001b[0m \u001b[0mpd\u001b[0m\u001b[0;34m.\u001b[0m\u001b[0mread_csv\u001b[0m\u001b[0;34m(\u001b[0m\u001b[0;34m'./NOS articles/dutch-news-articles.csv'\u001b[0m\u001b[0;34m)\u001b[0m\u001b[0;34m\u001b[0m\u001b[0;34m\u001b[0m\u001b[0m\n\u001b[0m\u001b[1;32m      2\u001b[0m \u001b[0mnos_df\u001b[0m\u001b[0;34m[\u001b[0m\u001b[0;34m\"datetime\"\u001b[0m\u001b[0;34m]\u001b[0m \u001b[0;34m=\u001b[0m \u001b[0mpd\u001b[0m\u001b[0;34m.\u001b[0m\u001b[0mto_datetime\u001b[0m\u001b[0;34m(\u001b[0m\u001b[0mnos_df\u001b[0m\u001b[0;34m[\u001b[0m\u001b[0;34m\"datetime\"\u001b[0m\u001b[0;34m]\u001b[0m\u001b[0;34m)\u001b[0m\u001b[0;34m\u001b[0m\u001b[0;34m\u001b[0m\u001b[0m\n",
      "\u001b[0;31mNameError\u001b[0m: name 'pd' is not defined"
     ]
    }
   ],
   "source": [
    "nos_df = pd.read_csv('./NOS articles/dutch-news-articles.csv')\n",
    "nos_df[\"datetime\"] = pd.to_datetime(nos_df[\"datetime\"])"
   ]
  },
  {
   "cell_type": "code",
   "execution_count": null,
   "metadata": {},
   "outputs": [],
   "source": [
    "print(nos_df[\"category\"].unique())"
   ]
  },
  {
   "cell_type": "code",
   "execution_count": null,
   "metadata": {},
   "outputs": [],
   "source": [
    "plt.rcParams[\"figure.figsize\"] = (20,5)\n",
    "\n",
    "nos_date_plot = nos_df[\"datetime\"].value_counts().resample(\"1M\").sum()\n",
    "plt.plot(nos_date_plot[:-1])\n",
    "plt.title(\"Monthly article count of NOS articles.\")\n",
    "plt.xlabel('Month')\n",
    "plt.ylabel('Article count')"
   ]
  },
  {
   "cell_type": "code",
   "execution_count": null,
   "metadata": {},
   "outputs": [],
   "source": []
  },
  {
   "cell_type": "markdown",
   "metadata": {},
   "source": [
    "### Clean Data"
   ]
  },
  {
   "cell_type": "code",
   "execution_count": null,
   "metadata": {},
   "outputs": [],
   "source": [
    "print(f\"{len(nos_df)} articles\")\n",
    "\n",
    "word_count = 0\n",
    "for i in range(len(nos_df)):\n",
    "    curr = nos_df.iloc[i]\n",
    "    word_count += len(curr[\"content\"].split())\n",
    "print(word_count)"
   ]
  },
  {
   "cell_type": "code",
   "execution_count": null,
   "metadata": {},
   "outputs": [],
   "source": [
    "cleaned_nos_df = nos_df.copy()\n",
    "cleaned_nos_df['content'] = cleaned_nos_df['content'].apply(lambda x: ' '.join([word for word in x.split() if word not in dutch_stopwords]))\n"
   ]
  },
  {
   "cell_type": "code",
   "execution_count": null,
   "metadata": {},
   "outputs": [],
   "source": [
    "cleaned_word_count = 0\n",
    "for i in range(len(cleaned_nos_df)):\n",
    "    curr = cleaned_nos_df.iloc[i]\n",
    "    cleaned_word_count += len(curr[\"content\"].split())\n",
    "print(cleaned_word_count)"
   ]
  },
  {
   "cell_type": "code",
   "execution_count": null,
   "metadata": {},
   "outputs": [],
   "source": [
    "print(f\"Original count: {word_count} \\n Cleaned count: {cleaned_word_count} \\n Difference: {word_count - cleaned_word_count}\")\n",
    "print(f\"{round((word_count - cleaned_word_count) / word_count * 100, 2)}% decrease\")\n"
   ]
  },
  {
   "cell_type": "markdown",
   "metadata": {},
   "source": [
    "### Filter For Drugs "
   ]
  },
  {
   "cell_type": "code",
   "execution_count": null,
   "metadata": {},
   "outputs": [],
   "source": [
    "print(f\"Original NOS dataframe contains {len(cleaned_nos_df)} articles.\")\n",
    "\n",
    "nos_drugs_df = pd.DataFrame()\n",
    "drugs_words = [\"drugs\", \"narcotica\", \"verdovende middelen\"]\n",
    "\n",
    "for i in range(len(cleaned_nos_df)):\n",
    "    curr = cleaned_nos_df.iloc[i]\n",
    "    if any(x in curr[\"content\"] for x in drugs_words):\n",
    "        nos_drugs_df = nos_drugs_df.append(curr)\n",
    "        \n",
    "print(f\"Filtered for drugs: {len(nos_drugs_df)} articles\")"
   ]
  },
  {
   "cell_type": "markdown",
   "metadata": {},
   "source": [
    "### Extract Country"
   ]
  },
  {
   "cell_type": "code",
   "execution_count": null,
   "metadata": {},
   "outputs": [],
   "source": [
    "country = []\n",
    "countries_df = pd.read_csv('dutch-countries.csv', encoding = \"ISO-8859-1\")\n",
    "countries_list = list(countries_df[\"Countries\"])\n",
    "countries_list.extend([\"Londen\", \"Belgisch\", \"Rio\", \"Russische\", \"Colorado\", \"Saudi-Arabië\", \"Manchester\", \"Groot-Brittannië\", \"Britse\", \"Deense\", \"Mexicaanse\", \"Braziliaanse\", \"Surinaamse\", \"Amerika\", \"Franse\", \"Spaanse\", \"Trinidad\", \"Amerikaanse\", \"Los Angeles\", \"Italiaanse\", \"Trinidad en Tobago\"])\n",
    "\n",
    "for i in range(len(nos_drugs_df)):\n",
    "    curr = nos_drugs_df.iloc[i]\n",
    "    text = curr.content.replace(\"ë\", \"ë\")\n",
    "    countries_in_content = []\n",
    "    if curr[\"category\"] == \"Buitenland\":\n",
    "        countries_in_content = [(text.find(c), c) for c in countries_list if c in text]\n",
    "        if len(countries_in_content) > 0:\n",
    "            result = min(countries_in_content)[1]\n",
    "            if result in {\"Amerika\", \"Amerikaanse\", \"Los Angeles\", \"Colorado\"}:\n",
    "                country.append(\"Verenigde Staten\")\n",
    "            elif result == \"Franse\":\n",
    "                country.append(\"Frankrijk\")\n",
    "            elif result == \"Spaanse\":\n",
    "                country.append(\"Spanje\")\n",
    "            elif result == \"Italiaanse\":\n",
    "                country.append(\"Italië\")\n",
    "            elif result == \"Trinidad\":\n",
    "                country.append(\"Trinidad en Tobago\")\n",
    "            elif result == \"Mexicaanse\":\n",
    "                country.append(\"Mexico\")\n",
    "            elif result == \"Surinaamse\":\n",
    "                country.append(\"Suriname\")\n",
    "            elif result in {\"Londen\", \"Brits\", \"Groot-Brittannië\", \"Manchester\"}:\n",
    "                country.append(\"Verenigd Koninkrijk\")\n",
    "            elif result in {\"Braziliaanse\", \"Rio\"}:\n",
    "                country.append(\"Brazilië\")\n",
    "            elif result == \"Deense\":\n",
    "                country.append(\"Denemarken\")\n",
    "            elif result == \"Belgisch\":\n",
    "                country.append(\"België\")\n",
    "            elif result == \"Russische\":\n",
    "                country.append(\"Rusland\")\n",
    "            else:\n",
    "                country.append(min(countries_in_content)[1])\n",
    "        else:\n",
    "            country.append(\"unknown\")\n",
    "    else:\n",
    "        country.append(\"Nederland\")\n",
    "            \n",
    "nos_drugs_df[\"country\"] = country"
   ]
  },
  {
   "cell_type": "markdown",
   "metadata": {},
   "source": [
    "### Filter For Trafficking"
   ]
  },
  {
   "cell_type": "code",
   "execution_count": null,
   "metadata": {},
   "outputs": [],
   "source": [
    "print(f\"Original article count: {len(nos_df)} \\n Filtered for drugs: {len(nos_drugs_df)}\")\n",
    "\n",
    "nos_trafficking_df = pd.DataFrame()\n",
    "trafficking_words = [\"smokkel\", \"transport\", \"invoer\", \"import\", \"export\", \"uitvoer\"]\n",
    "# trafficking_words = [\"smokkel\", \"transport\", \"invoer\", \"import\", \"export\"]\n",
    "\n",
    "\n",
    "for i in range(len(nos_drugs_df)):\n",
    "    curr = nos_drugs_df.iloc[i]\n",
    "    if any(x in curr[\"content\"] for x in trafficking_words):\n",
    "        nos_trafficking_df = nos_trafficking_df.append(curr)\n",
    "    \n",
    "print(f\"Filtered for trafficking:  {len(nos_trafficking_df)} articles.\")"
   ]
  },
  {
   "cell_type": "code",
   "execution_count": null,
   "metadata": {},
   "outputs": [],
   "source": [
    "print(len(nos_trafficking_df['country'].value_counts().index.tolist()))\n",
    "nos_trafficking_df['country'].value_counts().index.tolist()\n"
   ]
  },
  {
   "cell_type": "code",
   "execution_count": null,
   "metadata": {},
   "outputs": [],
   "source": []
  },
  {
   "cell_type": "markdown",
   "metadata": {},
   "source": [
    "### TF-IDF / K-Means"
   ]
  },
  {
   "cell_type": "markdown",
   "metadata": {},
   "source": [
    "Prepare data"
   ]
  },
  {
   "cell_type": "code",
   "execution_count": null,
   "metadata": {},
   "outputs": [],
   "source": [
    "from sklearn.feature_extraction.text import TfidfVectorizer\n",
    "from sklearn.cluster import KMeans\n",
    "from sklearn.metrics import adjusted_rand_score\n",
    "from sklearn.decomposition import PCA\n",
    "\n",
    "print(len(nos_trafficking_df))\n",
    "documents = nos_trafficking_df[\"content\"]\n",
    "# total_stop_words = stopwords.words('dutch') + stopwords.words('english')\n",
    "# vectorizer = TfidfVectorizer(max_df=0.20, min_df=10, stop_words=total_stop_words , use_idf=True,  lowercase=True)\n",
    "vectorizer = TfidfVectorizer(use_idf=True,  lowercase=True)\n",
    "\n",
    "X = vectorizer.fit_transform(documents)\n",
    "print(X)\n",
    "# X = X.astype('float32')"
   ]
  },
  {
   "cell_type": "markdown",
   "metadata": {},
   "source": [
    "Elbow curve"
   ]
  },
  {
   "cell_type": "code",
   "execution_count": null,
   "metadata": {},
   "outputs": [],
   "source": [
    "distorsions = []\n",
    "k_range = 20\n",
    "for k in range(2, k_range):\n",
    "    kmeans = KMeans(n_clusters=k, init='k-means++', max_iter=200)\n",
    "    kmeans.fit_predict(X)\n",
    "    distorsions.append(kmeans.inertia_)\n",
    "\n",
    "fig = plt.figure(figsize=(15, 5))\n",
    "plt.plot(range(2, k_range), distorsions)\n",
    "plt.grid(True)\n",
    "plt.title('Elbow curve')"
   ]
  },
  {
   "cell_type": "markdown",
   "metadata": {},
   "source": [
    "Create K-means plot"
   ]
  },
  {
   "cell_type": "code",
   "execution_count": null,
   "metadata": {},
   "outputs": [],
   "source": [
    "true_k = 15\n",
    "model = KMeans(n_clusters=true_k, init='k-means++', max_iter=200)\n",
    "\n",
    "labels = model.fit_predict(X)\n",
    "nos_trafficking_df[\"K means cluster\"] = labels\n",
    "\n",
    "X_array = X.toarray()\n",
    "pca = PCA(n_components=2).fit(X_array)\n",
    "XPCA = pca.transform(X_array)\n",
    "\n",
    "u_labels = np.unique(labels)\n",
    "for i in u_labels:\n",
    "    plt.scatter(XPCA[labels == i , 0] , XPCA[labels == i , 1] , label = i)\n",
    "plt.legend()\n",
    "plt.show()"
   ]
  },
  {
   "cell_type": "markdown",
   "metadata": {},
   "source": [
    "Top Clusters:"
   ]
  },
  {
   "cell_type": "code",
   "execution_count": null,
   "metadata": {},
   "outputs": [],
   "source": [
    "print(\"Top terms per cluster:\")\n",
    "order_centroids = model.cluster_centers_.argsort()[:, ::-1]\n",
    "terms = vectorizer.get_feature_names()\n",
    "terms_df = pd.DataFrame()\n",
    "for i in range(true_k):\n",
    "    curr = []\n",
    "    for ind in order_centroids[i, :19]:\n",
    "        curr.append(terms[ind])\n",
    "    terms_df[i] = curr\n",
    "\n",
    "print(terms_df)\n",
    "\n",
    "print(nos_trafficking_df[\"K means cluster\"].value_counts())"
   ]
  },
  {
   "cell_type": "code",
   "execution_count": null,
   "metadata": {},
   "outputs": [],
   "source": []
  },
  {
   "cell_type": "code",
   "execution_count": null,
   "metadata": {},
   "outputs": [],
   "source": []
  }
 ],
 "metadata": {
  "kernelspec": {
   "display_name": "Python 3 (ipykernel)",
   "language": "python",
   "name": "python3"
  },
  "language_info": {
   "codemirror_mode": {
    "name": "ipython",
    "version": 3
   },
   "file_extension": ".py",
   "mimetype": "text/x-python",
   "name": "python",
   "nbconvert_exporter": "python",
   "pygments_lexer": "ipython3",
   "version": "3.10.1"
  }
 },
 "nbformat": 4,
 "nbformat_minor": 4
}
