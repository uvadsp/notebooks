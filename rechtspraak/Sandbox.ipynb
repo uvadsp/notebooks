{
 "cells": [
  {
   "cell_type": "code",
   "execution_count": 8,
   "id": "20e41ca6",
   "metadata": {},
   "outputs": [
    {
     "name": "stdout",
     "output_type": "stream",
     "text": [
      "Collecting pyfasttext\n",
      "  Downloading pyfasttext-0.4.6.tar.gz (244 kB)\n",
      "     -------------------------------------- 244.7/244.7 KB 7.6 MB/s eta 0:00:00\n",
      "  Preparing metadata (setup.py): started\n",
      "  Preparing metadata (setup.py): finished with status 'error'\n"
     ]
    },
    {
     "name": "stderr",
     "output_type": "stream",
     "text": [
      "  error: subprocess-exited-with-error\n",
      "  \n",
      "  python setup.py egg_info did not run successfully.\n",
      "  exit code: 1\n",
      "  \n",
      "  [66 lines of output]\n",
      "  Collecting cysignals\n",
      "    Downloading cysignals-1.11.2.tar.gz (99 kB)\n",
      "       ---------------------------------------- 99.0/99.0 KB 5.9 MB/s eta 0:00:00\n",
      "    Preparing metadata (setup.py): started\n",
      "    Preparing metadata (setup.py): finished with status 'done'\n",
      "  Requirement already satisfied: Cython>=0.28 in c:\\users\\casbe\\appdata\\local\\programs\\python\\python310\\lib\\site-packages (from cysignals) (0.29.28)\n",
      "  Building wheels for collected packages: cysignals\n",
      "    Building wheel for cysignals (setup.py): started\n",
      "    Building wheel for cysignals (setup.py): finished with status 'error'\n",
      "    error: subprocess-exited-with-error\n",
      "  \n",
      "    python setup.py bdist_wheel did not run successfully.\n",
      "    exit code: 1\n",
      "  \n",
      "    [5 lines of output]\n",
      "    running bdist_wheel\n",
      "    running build\n",
      "    running build_py\n",
      "    running configure\n",
      "    error: [WinError 2] The system cannot find the file specified\n",
      "    [end of output]\n",
      "  \n",
      "    note: This error originates from a subprocess, and is likely not a problem with pip.\n",
      "    ERROR: Failed building wheel for cysignals\n",
      "    Running setup.py clean for cysignals\n",
      "  Failed to build cysignals\n",
      "  Installing collected packages: cysignals\n",
      "    Running setup.py install for cysignals: started\n",
      "    Running setup.py install for cysignals: finished with status 'error'\n",
      "    error: subprocess-exited-with-error\n",
      "  \n",
      "    Running setup.py install for cysignals did not run successfully.\n",
      "    exit code: 1\n",
      "  \n",
      "    [5 lines of output]\n",
      "    running install\n",
      "    running build\n",
      "    running build_py\n",
      "    running configure\n",
      "    error: [WinError 2] The system cannot find the file specified\n",
      "    [end of output]\n",
      "  \n",
      "    note: This error originates from a subprocess, and is likely not a problem with pip.\n",
      "  error: legacy-install-failure\n",
      "  \n",
      "  Encountered error while trying to install package.\n",
      "  \n",
      "  cysignals\n",
      "  \n",
      "  note: This is an issue with the package mentioned above, not pip.\n",
      "  hint: See above for output from the failure.\n",
      "  WARNING: You are using pip version 22.0.4; however, version 22.1.1 is available.\n",
      "  You should consider upgrading via the 'C:\\Users\\casbe\\AppData\\Local\\Programs\\Python\\Python310\\python.exe -m pip install --upgrade pip' command.\n",
      "  Traceback (most recent call last):\n",
      "    File \"C:\\Users\\casbe\\AppData\\Local\\Temp\\pip-install-0_xj3zga\\pyfasttext_ce6fd4778efb482093dedeb0a397c539\\setup.py\", line 33, in <module>\n",
      "      import cysignals\n",
      "  ModuleNotFoundError: No module named 'cysignals'\n",
      "  \n",
      "  During handling of the above exception, another exception occurred:\n",
      "  \n",
      "  Traceback (most recent call last):\n",
      "    File \"<string>\", line 2, in <module>\n",
      "    File \"<pip-setuptools-caller>\", line 34, in <module>\n",
      "    File \"C:\\Users\\casbe\\AppData\\Local\\Temp\\pip-install-0_xj3zga\\pyfasttext_ce6fd4778efb482093dedeb0a397c539\\setup.py\", line 37, in <module>\n",
      "      raise RuntimeError('cannot install cysignals with pip')\n",
      "  RuntimeError: cannot install cysignals with pip\n",
      "  [end of output]\n",
      "  \n",
      "  note: This error originates from a subprocess, and is likely not a problem with pip.\n",
      "error: metadata-generation-failed\n",
      "\n",
      "Encountered error while generating package metadata.\n",
      "\n",
      "See above for output.\n",
      "\n",
      "note: This is an issue with the package mentioned above, not pip.\n",
      "hint: See above for details.\n",
      "WARNING: You are using pip version 22.0.4; however, version 22.1.1 is available.\n",
      "You should consider upgrading via the 'C:\\Users\\casbe\\AppData\\Local\\Programs\\Python\\Python310\\python.exe -m pip install --upgrade pip' command.\n"
     ]
    }
   ],
   "source": [
    "!pip install pyfasttext"
   ]
  },
  {
   "cell_type": "code",
   "execution_count": 6,
   "id": "0d013039",
   "metadata": {},
   "outputs": [],
   "source": [
    "import fasttext"
   ]
  },
  {
   "cell_type": "code",
   "execution_count": 7,
   "id": "b9e5a450",
   "metadata": {},
   "outputs": [],
   "source": [
    "model = fasttext.train_unsupervised('data.txt', model='cbow')\n"
   ]
  },
  {
   "cell_type": "code",
   "execution_count": 9,
   "id": "73e33bca",
   "metadata": {},
   "outputs": [
    {
     "ename": "AttributeError",
     "evalue": "'_FastText' object has no attribute 'nearest_neighbors'",
     "output_type": "error",
     "traceback": [
      "\u001b[1;31m---------------------------------------------------------------------------\u001b[0m",
      "\u001b[1;31mAttributeError\u001b[0m                            Traceback (most recent call last)",
      "Input \u001b[1;32mIn [9]\u001b[0m, in \u001b[0;36m<module>\u001b[1;34m\u001b[0m\n\u001b[1;32m----> 1\u001b[0m \u001b[43mmodel\u001b[49m\u001b[38;5;241;43m.\u001b[39;49m\u001b[43mnearest_neighbors\u001b[49m(\u001b[38;5;124m'\u001b[39m\u001b[38;5;124mhof\u001b[39m\u001b[38;5;124m'\u001b[39m, k\u001b[38;5;241m=\u001b[39m\u001b[38;5;241m2000\u001b[39m)\n",
      "\u001b[1;31mAttributeError\u001b[0m: '_FastText' object has no attribute 'nearest_neighbors'"
     ]
    }
   ],
   "source": [
    "model.nearest_neighbors('hof', k=2000)\n"
   ]
  },
  {
   "cell_type": "code",
   "execution_count": null,
   "id": "c602b0ca",
   "metadata": {},
   "outputs": [],
   "source": []
  },
  {
   "cell_type": "code",
   "execution_count": null,
   "id": "8bcc0693",
   "metadata": {},
   "outputs": [],
   "source": []
  }
 ],
 "metadata": {
  "kernelspec": {
   "display_name": "Python 3 (ipykernel)",
   "language": "python",
   "name": "python3"
  },
  "language_info": {
   "codemirror_mode": {
    "name": "ipython",
    "version": 3
   },
   "file_extension": ".py",
   "mimetype": "text/x-python",
   "name": "python",
   "nbconvert_exporter": "python",
   "pygments_lexer": "ipython3",
   "version": "3.10.1"
  }
 },
 "nbformat": 4,
 "nbformat_minor": 5
}
