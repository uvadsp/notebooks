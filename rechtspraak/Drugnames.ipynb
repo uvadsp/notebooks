{
 "cells": [
  {
   "cell_type": "code",
   "execution_count": 6,
   "metadata": {},
   "outputs": [],
   "source": [
    "import pandas as pd\n",
    "import pickle\n",
    "import requests\n",
    "import re"
   ]
  },
  {
   "cell_type": "markdown",
   "metadata": {},
   "source": [
    "## Load Dataset"
   ]
  },
  {
   "cell_type": "code",
   "execution_count": 3,
   "metadata": {},
   "outputs": [
    {
     "data": {
      "text/html": [
       "<div>\n",
       "<style scoped>\n",
       "    .dataframe tbody tr th:only-of-type {\n",
       "        vertical-align: middle;\n",
       "    }\n",
       "\n",
       "    .dataframe tbody tr th {\n",
       "        vertical-align: top;\n",
       "    }\n",
       "\n",
       "    .dataframe thead th {\n",
       "        text-align: right;\n",
       "    }\n",
       "</style>\n",
       "<table border=\"1\" class=\"dataframe\">\n",
       "  <thead>\n",
       "    <tr style=\"text-align: right;\">\n",
       "      <th></th>\n",
       "      <th>id</th>\n",
       "      <th>verdict_date</th>\n",
       "      <th>publication_date</th>\n",
       "      <th>verdict_type</th>\n",
       "      <th>jurisdiction_type</th>\n",
       "      <th>inhoudsindicatie</th>\n",
       "      <th>case text</th>\n",
       "    </tr>\n",
       "  </thead>\n",
       "  <tbody>\n",
       "    <tr>\n",
       "      <th>0</th>\n",
       "      <td>ECLI-NL-RBNNE-2021-5018</td>\n",
       "      <td>2021-01-10</td>\n",
       "      <td>2021-11-23</td>\n",
       "      <td>uitspraak</td>\n",
       "      <td>['Strafrecht']</td>\n",
       "      <td>Productie synthetische drugs, medeplegen, prod...</td>\n",
       "      <td>\\n\\nRECHTBANK NOORD-NEDERLAND\\nAfdeling strafr...</td>\n",
       "    </tr>\n",
       "    <tr>\n",
       "      <th>1</th>\n",
       "      <td>ECLI-NL-RBZUT-2003-AH9598</td>\n",
       "      <td>2003-03-06</td>\n",
       "      <td>2003-09-07</td>\n",
       "      <td>uitspraak</td>\n",
       "      <td>['Strafrecht']</td>\n",
       "      <td>Leveren grondstoffen synthetische drugs en sto...</td>\n",
       "      <td>\\n\\nRECHTBANK ZUTPHEN\\nMeervoudige economische...</td>\n",
       "    </tr>\n",
       "    <tr>\n",
       "      <th>2</th>\n",
       "      <td>ECLI-NL-RBZWB-2020-2646</td>\n",
       "      <td>2020-06-23</td>\n",
       "      <td>2020-06-23</td>\n",
       "      <td>uitspraak</td>\n",
       "      <td>['Strafrecht']</td>\n",
       "      <td>plegen van voorbereidingshandelingen ten behoe...</td>\n",
       "      <td>\\n\\nRECHTBANK ZEELAND-WEST-BRABANT\\n\\nStrafrec...</td>\n",
       "    </tr>\n",
       "    <tr>\n",
       "      <th>3</th>\n",
       "      <td>ECLI-NL-GHAMS-2019-1601</td>\n",
       "      <td>2019-08-05</td>\n",
       "      <td>2019-07-26</td>\n",
       "      <td>uitspraak</td>\n",
       "      <td>['Strafrecht']</td>\n",
       "      <td>medeplegen witwassen - medeplegen voorhanden h...</td>\n",
       "      <td>\\n\\nafdeling strafrecht\\nparketnummer: 23-0017...</td>\n",
       "    </tr>\n",
       "    <tr>\n",
       "      <th>4</th>\n",
       "      <td>ECLI-NL-GHAMS-2019-1602</td>\n",
       "      <td>2019-08-05</td>\n",
       "      <td>2019-07-26</td>\n",
       "      <td>uitspraak</td>\n",
       "      <td>['Strafrecht']</td>\n",
       "      <td>medeplegen witwassen - medeplegen voorhanden h...</td>\n",
       "      <td>\\n\\nafdeling strafrecht\\nparketnummer: 23-0017...</td>\n",
       "    </tr>\n",
       "  </tbody>\n",
       "</table>\n",
       "</div>"
      ],
      "text/plain": [
       "                          id verdict_date publication_date verdict_type  \\\n",
       "0    ECLI-NL-RBNNE-2021-5018   2021-01-10       2021-11-23    uitspraak   \n",
       "1  ECLI-NL-RBZUT-2003-AH9598   2003-03-06       2003-09-07    uitspraak   \n",
       "2    ECLI-NL-RBZWB-2020-2646   2020-06-23       2020-06-23    uitspraak   \n",
       "3    ECLI-NL-GHAMS-2019-1601   2019-08-05       2019-07-26    uitspraak   \n",
       "4    ECLI-NL-GHAMS-2019-1602   2019-08-05       2019-07-26    uitspraak   \n",
       "\n",
       "  jurisdiction_type                                   inhoudsindicatie  \\\n",
       "0    ['Strafrecht']  Productie synthetische drugs, medeplegen, prod...   \n",
       "1    ['Strafrecht']  Leveren grondstoffen synthetische drugs en sto...   \n",
       "2    ['Strafrecht']  plegen van voorbereidingshandelingen ten behoe...   \n",
       "3    ['Strafrecht']  medeplegen witwassen - medeplegen voorhanden h...   \n",
       "4    ['Strafrecht']  medeplegen witwassen - medeplegen voorhanden h...   \n",
       "\n",
       "                                           case text  \n",
       "0  \\n\\nRECHTBANK NOORD-NEDERLAND\\nAfdeling strafr...  \n",
       "1  \\n\\nRECHTBANK ZUTPHEN\\nMeervoudige economische...  \n",
       "2  \\n\\nRECHTBANK ZEELAND-WEST-BRABANT\\n\\nStrafrec...  \n",
       "3  \\n\\nafdeling strafrecht\\nparketnummer: 23-0017...  \n",
       "4  \\n\\nafdeling strafrecht\\nparketnummer: 23-0017...  "
      ]
     },
     "execution_count": 3,
     "metadata": {},
     "output_type": "execute_result"
    }
   ],
   "source": [
    "merged_df = pd.read_pickle(\"saves/merged_df.pkl\")\n",
    "merged_df.head()"
   ]
  },
  {
   "cell_type": "markdown",
   "metadata": {},
   "source": [
    "## Split into sentences"
   ]
  },
  {
   "cell_type": "code",
   "execution_count": 4,
   "metadata": {},
   "outputs": [],
   "source": [
    "def split_into_sentences(text):\n",
    "    sentences = re.split(r'(?<=[^A-Z].[.?]) +(?=[A-Z])|\\n', text)\n",
    "    sentences = [x for x in sentences if len(x) > 1]\n",
    "    return sentences"
   ]
  },
  {
   "cell_type": "code",
   "execution_count": 7,
   "metadata": {},
   "outputs": [
    {
     "name": "stdout",
     "output_type": "stream",
     "text": [
      "Sentence count: 5301875\n",
      "Word count: 88748423\n"
     ]
    }
   ],
   "source": [
    "sentence_list_by_word = []\n",
    "sentence_list = []\n",
    "\n",
    "for i in range(len(merged_df)):\n",
    "    doc = merged_df.iloc[i]['case text']\n",
    "    sentences = split_into_sentences(doc)\n",
    "    sentence_list.append(sentences)\n",
    "    for j in sentences:\n",
    "        word_list = [x for x in j.lower().rstrip().replace('.', '').split(' ') if len(x)>0]\n",
    "        sentence_list_by_word.append(word_list)\n",
    "        \n",
    "\n",
    "\n",
    "wordlen = 0\n",
    "for i in sentence_list_by_word:\n",
    "    wordlen += len(i)\n",
    "    \n",
    "print(f\"Sentence count: {len(sentence_list_by_word)}\")\n",
    "print(f\"Word count: {wordlen}\")"
   ]
  },
  {
   "cell_type": "markdown",
   "metadata": {},
   "source": [
    "## Create Word2Vec model"
   ]
  },
  {
   "cell_type": "code",
   "execution_count": 8,
   "metadata": {},
   "outputs": [],
   "source": [
    "from gensim.models import Word2Vec\n",
    "from gensim.test.utils import common_texts"
   ]
  },
  {
   "cell_type": "code",
   "execution_count": 9,
   "metadata": {},
   "outputs": [],
   "source": [
    "dutch_word2vec_model = Word2Vec(sentences=sentence_list_by_word, vector_size=100, window=5, min_count=1, workers=4)\n",
    "dutch_word2vec_model.save(\"word2vec_dutch_court_cases.model\")"
   ]
  },
  {
   "cell_type": "code",
   "execution_count": 10,
   "metadata": {},
   "outputs": [],
   "source": [
    "dutch_word2vec_model = Word2Vec.load(\"word2vec_dutch_court_cases.model\")"
   ]
  },
  {
   "cell_type": "code",
   "execution_count": 19,
   "metadata": {},
   "outputs": [
    {
     "name": "stdout",
     "output_type": "stream",
     "text": [
      "['mdma', 'ketamine', 'lsd', 'xtc-pillen', 'speed', 'amfetamine', 'heroïne', 'methadon', 'ghb', 'amfetaminen', 'xtc-tabletten', 'mdma)', 'diazepam', 'morfine', 'ecstasy', 'oxazepam', 'fenacetine', 'amfetamine)', 'marihuana', 'steroïden', 'pillen', 'xtc)', 'metamfetamine', '(mdma)', 'ritalin', 'cocaïne', 'anabole', 'xtc,', 'methamfetamine', 'cannabis', 'xtc/mdma', '2c-b', 'temazepam', 'kamagra', 'paracetamol', 'methylfenidaat', '5793857)', 'lidocaïne', 'crack', 'tabletten', 'pillen)', 'heroïne)', 'a-pvp', 'crystal', '(speed)', 'amfetamine;', 'tabletten)', 'xtc-', '(amfetamine)', 'mdma;', 'mdma-', 'procaïne', 'cocaine', 'pmma', 'cafeïne', 'wiet', '(xtc)', 'harddrugs', '(cocaïne', 'mdma-pillen', 'oxycodon', 'heroïne;', 'coke', 'pep', 'hasj', 'pure', 'cocaïne)', '(met)amfetamine', 'gbl', 'weed', 'mefedron', 'sildenafil', 'mcpp', 'inositol', 'mdma-poeder', 'viagra', 'mdma,', 'versnijdingsmiddel', 'hash', 'heroine', 'speed)', '(speed))', 'capsules', 'opiaten', 'base', '(mdma', 'mdma/xtc', '34-methyleendioxymethamfetamine', 'pasta', 'hashish', 'pills', 'mdma-tabletten', 'xtc-pillen)', 'dexamfetamine', 'cocaïne;', 'tabl;', 'ergotamine', '(4-broom-25-dimethoxyfenethylamine)', '4-methylamfetamine', 'opium']\n"
     ]
    }
   ],
   "source": [
    "sims = dutch_word2vec_model.wv.most_similar('xtc', topn=100)\n",
    "print([i[0] for i in sims])\n"
   ]
  },
  {
   "cell_type": "markdown",
   "metadata": {},
   "source": [
    "## Get  drug names for Google trends"
   ]
  },
  {
   "cell_type": "code",
   "execution_count": 26,
   "metadata": {},
   "outputs": [],
   "source": [
    "def create_word2vec_relevant_words(words, matches):\n",
    "    word2vec_list = []\n",
    "    for word in words:\n",
    "        results = dutch_word2vec_model.wv.most_similar(word, topn=100)\n",
    "        for i in results:\n",
    "            word2vec_list.append(i[0])\n",
    "            \n",
    "    word2vec_list = list(set([i for i in word2vec_list if word2vec_list.count(i)>matches]))\n",
    "    return word2vec_list"
   ]
  },
  {
   "cell_type": "code",
   "execution_count": 60,
   "metadata": {},
   "outputs": [
    {
     "name": "stdout",
     "output_type": "stream",
     "text": [
      "20\n",
      "['cocaïne', 'hasj', 'methadon', 'pillen', 'mdma-pillen', 'marihuana', 'xtc-tabletten', 'paracetamol', 'hashish', 'heroïne', 'fenacetine', 'xtc-pillen', 'cocaïne;', 'amfetaminen', 'ghb', 'ketamine', 'amfetamine', 'lsd', 'mdma-poeder', 'opium']\n"
     ]
    }
   ],
   "source": [
    "list_of_drugs = ['xtc', 'mdma', 'cocaine', 'wiet', 'speed']\n",
    "\n",
    "word2vec_drug_list = create_word2vec_relevant_words(list_of_drugs, 4)\n",
    "\n",
    "print(len(word2vec_drug_list))\n",
    "print(word2vec_drug_list)"
   ]
  },
  {
   "cell_type": "code",
   "execution_count": null,
   "metadata": {},
   "outputs": [],
   "source": []
  }
 ],
 "metadata": {
  "kernelspec": {
   "display_name": "Python 3",
   "language": "python",
   "name": "python3"
  },
  "language_info": {
   "codemirror_mode": {
    "name": "ipython",
    "version": 3
   },
   "file_extension": ".py",
   "mimetype": "text/x-python",
   "name": "python",
   "nbconvert_exporter": "python",
   "pygments_lexer": "ipython3",
   "version": "3.8.3"
  }
 },
 "nbformat": 4,
 "nbformat_minor": 4
}
