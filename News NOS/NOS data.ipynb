{
 "cells": [
  {
   "cell_type": "code",
   "execution_count": 605,
   "metadata": {},
   "outputs": [],
   "source": [
    "import warnings\n",
    "warnings.filterwarnings(\"ignore\")\n",
    "\n",
    "import pandas as pd\n",
    "import numpy as np\n",
    "import re\n",
    "import matplotlib.pyplot as plt\n",
    "\n",
    "from sklearn.preprocessing import MinMaxScaler"
   ]
  },
  {
   "cell_type": "markdown",
   "metadata": {},
   "source": [
    "### Functions"
   ]
  },
  {
   "cell_type": "code",
   "execution_count": 658,
   "metadata": {},
   "outputs": [],
   "source": [
    "def get_weeks(year_start,year_end):\n",
    "    # The date range that we query\n",
    "    datelist = pd.date_range(f'{year_start}-01-01', f'{year_end+1}-01-01').to_series()\n",
    "\n",
    "    # Extract year and week \n",
    "    year = datelist.apply(lambda x: x.strftime('%Y')).astype(int)\n",
    "    week = datelist.apply(lambda x: x.strftime('%U')).astype(int)\n",
    "\n",
    "    # Combine years and their weeks in one table\n",
    "    data_years = pd.DataFrame(data=[year, week], index=['year', 'week']).T\n",
    "\n",
    "    # Get number of weeks per year\n",
    "    data_weeks = data_years.groupby(['year']).max().to_dict('index')\n",
    "\n",
    "    # Get a list of weeks per year\n",
    "    week_ranges=[]\n",
    "    for year in data_weeks.keys():\n",
    "        week_ranges.append(list(range(1,data_weeks[year]['week']+1)))\n",
    "\n",
    "    # Create a dict with year and exact week numbers\n",
    "    weeks_per_year = dict(zip(list(data_weeks.keys()), week_ranges))\n",
    "    \n",
    "    return weeks_per_year"
   ]
  },
  {
   "cell_type": "code",
   "execution_count": 660,
   "metadata": {},
   "outputs": [],
   "source": [
    "def find_missing_weeks(data):\n",
    "    year_start = data.year.min()\n",
    "    year_end = data.year.max()\n",
    "    \n",
    "    weeks_per_year=get_weeks(year_start,year_end)\n",
    "    actual_data = data.groupby('year')['week_number'].apply(set).apply(list)\n",
    "\n",
    "    weeks_to_add={}\n",
    "    for year in range(year_start,year_end+1):\n",
    "        weeks1 = get_weeks(year_start,year_end)[year]\n",
    "        weeks2 = actual_data[year]\n",
    "        weeks_to_add[year] = (list(set(weeks1) - set(weeks2)))\n",
    "        \n",
    "    return weeks_to_add"
   ]
  },
  {
   "cell_type": "code",
   "execution_count": 608,
   "metadata": {},
   "outputs": [],
   "source": [
    "def handle_missing_weeks(data):\n",
    "    weeks_to_add = find_missing_weeks(data)\n",
    "    \n",
    "    for year in weeks_to_add.keys():\n",
    "        for week in weeks_to_add[year]:\n",
    "            data = data.append({'year':year, 'week_number':week, 'content':0}, ignore_index=True)\n",
    "            \n",
    "    return data.sort_values(['year', 'week_number']).reset_index(drop=True)"
   ]
  },
  {
   "cell_type": "code",
   "execution_count": 609,
   "metadata": {},
   "outputs": [],
   "source": [
    "def get_relative_scores_per_year(data):\n",
    "    new_data = pd.DataFrame()\n",
    "    for year in data.year.unique():\n",
    "        data_year = data[data['year']==year]\n",
    "        \n",
    "        scaler = MinMaxScaler()\n",
    "        data_year['relative_yearly'] = scaler.fit_transform(np.array(data_year.content).reshape(-1, 1))*100\n",
    "        new_data=pd.concat([new_data, data_year])\n",
    "        \n",
    "    return new_data"
   ]
  },
  {
   "cell_type": "code",
   "execution_count": 588,
   "metadata": {},
   "outputs": [],
   "source": [
    "# def find_last_week_of_year(year, data):\n",
    "#     return data.loc[data['year'] == year].week_number.max()\n"
   ]
  },
  {
   "cell_type": "code",
   "execution_count": 589,
   "metadata": {},
   "outputs": [],
   "source": [
    "# def handle_week_zero(data):\n",
    "#     year_min=data.year.min() #initial min year in dataset\n",
    "    \n",
    "#     data.loc[data['week_number'] == 0, 'year'] = data.year-1 # If week 0, make the row belong to the previous year\n",
    "#     data = data[data.year>=year_min] # Ignore years that weren't initially in the dataset\n",
    "#     data.loc[data['week_number'] == 0, 'week_number'] = find_last_week_of_year(data.year, data) # If week 0, replace it with week 52\n",
    "#     data = data.groupby(['year','week_number']).sum().reset_index() # Merge rows with week 52 together under the same sum\n",
    "# #     data = data[data.year>=2014] # Match filter of Google Trends query\n",
    "# #     data = data.set_index('week_number')\n",
    "#     return data.reset_index(drop=True)"
   ]
  },
  {
   "cell_type": "code",
   "execution_count": 611,
   "metadata": {},
   "outputs": [],
   "source": [
    "def find_last_week_of_year(year):\n",
    "    weeks_in_year = get_weeks(year,year)\n",
    "    return max(weeks_in_year[year])"
   ]
  },
  {
   "cell_type": "code",
   "execution_count": 612,
   "metadata": {},
   "outputs": [],
   "source": [
    "def handle_week_zero(data):\n",
    "    data['prev_year']= data.year-1\n",
    "    data['max_week_prev_year'] = data.prev_year.apply(find_last_week_of_year)\n",
    "    \n",
    "    year_update = data.loc[data['week_number'] == 0].prev_year\n",
    "    week_update = data.loc[data['week_number'] == 0].max_week_prev_year\n",
    "\n",
    "    \n",
    "    data.loc[data['week_number'] == 0, 'year']  = year_update.values\n",
    "    data.loc[data['week_number'] == 0, 'week_number']  = week_update.values\n",
    "    \n",
    "    data = data[data.year>=2014] # Match filter of Google Trends query\n",
    "    \n",
    "    data = data.groupby(['year','week_number']).sum().reset_index() # Merge rows with week MAX together under the same sum\n",
    "    return data[['year', 'week_number', 'content']]\n"
   ]
  },
  {
   "cell_type": "code",
   "execution_count": 613,
   "metadata": {},
   "outputs": [],
   "source": [
    "def scale_year_range(data, col, year_start, year_end):\n",
    "    data_period = data[(data.year>=year_start) & (data.year<=year_end)]\n",
    "    scaler = MinMaxScaler()\n",
    "    data_period['relative_period'] = scaler.fit_transform(np.array(data_period[col]).reshape(-1, 1))*100\n",
    "    return data_period"
   ]
  },
  {
   "cell_type": "markdown",
   "metadata": {},
   "source": [
    "# News data analysis"
   ]
  },
  {
   "cell_type": "code",
   "execution_count": 634,
   "metadata": {},
   "outputs": [
    {
     "data": {
      "text/html": [
       "<div>\n",
       "<style scoped>\n",
       "    .dataframe tbody tr th:only-of-type {\n",
       "        vertical-align: middle;\n",
       "    }\n",
       "\n",
       "    .dataframe tbody tr th {\n",
       "        vertical-align: top;\n",
       "    }\n",
       "\n",
       "    .dataframe thead th {\n",
       "        text-align: right;\n",
       "    }\n",
       "</style>\n",
       "<table border=\"1\" class=\"dataframe\">\n",
       "  <thead>\n",
       "    <tr style=\"text-align: right;\">\n",
       "      <th></th>\n",
       "      <th>datetime</th>\n",
       "      <th>title</th>\n",
       "      <th>content</th>\n",
       "      <th>category</th>\n",
       "      <th>url</th>\n",
       "    </tr>\n",
       "  </thead>\n",
       "  <tbody>\n",
       "    <tr>\n",
       "      <th>73955</th>\n",
       "      <td>2014-01-01 00:00:00</td>\n",
       "      <td>2014 knallend ingezet</td>\n",
       "      <td>Nieuwjaar is in het hele land met veel vuurwer...</td>\n",
       "      <td>Binnenland</td>\n",
       "      <td>https://nos.nl/artikel/592437-2014-knallend-in...</td>\n",
       "    </tr>\n",
       "    <tr>\n",
       "      <th>73956</th>\n",
       "      <td>2014-01-01 01:54:00</td>\n",
       "      <td>Brandweerlieden landelijk belaagd</td>\n",
       "      <td>De brandweer is vannacht op verschillende plaa...</td>\n",
       "      <td>Binnenland</td>\n",
       "      <td>https://nos.nl/artikel/592441-brandweerlieden-...</td>\n",
       "    </tr>\n",
       "  </tbody>\n",
       "</table>\n",
       "</div>"
      ],
      "text/plain": [
       "                  datetime                              title  \\\n",
       "73955  2014-01-01 00:00:00              2014 knallend ingezet   \n",
       "73956  2014-01-01 01:54:00  Brandweerlieden landelijk belaagd   \n",
       "\n",
       "                                                 content    category  \\\n",
       "73955  Nieuwjaar is in het hele land met veel vuurwer...  Binnenland   \n",
       "73956  De brandweer is vannacht op verschillende plaa...  Binnenland   \n",
       "\n",
       "                                                     url  \n",
       "73955  https://nos.nl/artikel/592437-2014-knallend-in...  \n",
       "73956  https://nos.nl/artikel/592441-brandweerlieden-...  "
      ]
     },
     "execution_count": 634,
     "metadata": {},
     "output_type": "execute_result"
    }
   ],
   "source": [
    "news = pd.read_csv('dutch-news-articles.csv')\n",
    "news = news[news['datetime']>='2014-01-01']\n",
    "news.head(2)"
   ]
  },
  {
   "cell_type": "markdown",
   "metadata": {},
   "source": [
    "### Data preprocessing"
   ]
  },
  {
   "cell_type": "code",
   "execution_count": 635,
   "metadata": {},
   "outputs": [],
   "source": [
    "# convert date for better usage\n",
    "news['datetime'] = pd.to_datetime(news['datetime'])\n",
    "news['date'] = pd.to_datetime(news['datetime'].dt.date)\n",
    "news['year'] = news['datetime'].apply(lambda x: x.strftime('%Y')) \n",
    "news['year'] = news['year'].astype('int')\n",
    "news['week_number'] = news.date.apply(lambda x: x.strftime('%U')).astype(int)\n",
    "news.drop(['datetime'], axis=1, inplace=True)"
   ]
  },
  {
   "cell_type": "code",
   "execution_count": 636,
   "metadata": {},
   "outputs": [],
   "source": [
    "# change order of df colums for better interpretation\n",
    "first_column = news.pop('date')\n",
    "second_column = news.pop('year')\n",
    "third_column = news.pop('week_number')\n",
    "\n",
    "news.insert(0, 'date', first_column)\n",
    "news.insert(1, 'year', second_column)\n",
    "news.insert(2, 'week_number', third_column)\n"
   ]
  },
  {
   "cell_type": "code",
   "execution_count": 637,
   "metadata": {},
   "outputs": [],
   "source": [
    "# lowercase content column and replace some letters\n",
    "news['content'] = news['content'].apply(lambda x: x.lower())\n",
    "news['content'] = news.content.str.replace('ï','i')"
   ]
  },
  {
   "cell_type": "code",
   "execution_count": 638,
   "metadata": {},
   "outputs": [
    {
     "data": {
      "text/html": [
       "<div>\n",
       "<style scoped>\n",
       "    .dataframe tbody tr th:only-of-type {\n",
       "        vertical-align: middle;\n",
       "    }\n",
       "\n",
       "    .dataframe tbody tr th {\n",
       "        vertical-align: top;\n",
       "    }\n",
       "\n",
       "    .dataframe thead th {\n",
       "        text-align: right;\n",
       "    }\n",
       "</style>\n",
       "<table border=\"1\" class=\"dataframe\">\n",
       "  <thead>\n",
       "    <tr style=\"text-align: right;\">\n",
       "      <th></th>\n",
       "      <th>date</th>\n",
       "      <th>year</th>\n",
       "      <th>week_number</th>\n",
       "      <th>title</th>\n",
       "      <th>content</th>\n",
       "      <th>category</th>\n",
       "      <th>url</th>\n",
       "    </tr>\n",
       "  </thead>\n",
       "  <tbody>\n",
       "    <tr>\n",
       "      <th>246455</th>\n",
       "      <td>2022-12-04</td>\n",
       "      <td>2022</td>\n",
       "      <td>49</td>\n",
       "      <td>Vulkaan op Java barst uit: rookpluim van 15 ki...</td>\n",
       "      <td>indonesische autoriteiten hebben de alarmfase ...</td>\n",
       "      <td>Buitenland</td>\n",
       "      <td>https://nos.nl//artikel/2455058-vulkaan-op-jav...</td>\n",
       "    </tr>\n",
       "    <tr>\n",
       "      <th>246456</th>\n",
       "      <td>2022-12-04</td>\n",
       "      <td>2022</td>\n",
       "      <td>49</td>\n",
       "      <td>Iran executeert vier mannen om werk voor inlic...</td>\n",
       "      <td>iran heeft vier mannen geëxecuteerd die ervan...</td>\n",
       "      <td>Buitenland</td>\n",
       "      <td>https://nos.nl//artikel/2455070-iran-executeer...</td>\n",
       "    </tr>\n",
       "  </tbody>\n",
       "</table>\n",
       "</div>"
      ],
      "text/plain": [
       "             date  year  week_number  \\\n",
       "246455 2022-12-04  2022           49   \n",
       "246456 2022-12-04  2022           49   \n",
       "\n",
       "                                                    title  \\\n",
       "246455  Vulkaan op Java barst uit: rookpluim van 15 ki...   \n",
       "246456  Iran executeert vier mannen om werk voor inlic...   \n",
       "\n",
       "                                                  content    category  \\\n",
       "246455  indonesische autoriteiten hebben de alarmfase ...  Buitenland   \n",
       "246456  iran heeft vier mannen geëxecuteerd die ervan...  Buitenland   \n",
       "\n",
       "                                                      url  \n",
       "246455  https://nos.nl//artikel/2455058-vulkaan-op-jav...  \n",
       "246456  https://nos.nl//artikel/2455070-iran-executeer...  "
      ]
     },
     "execution_count": 638,
     "metadata": {},
     "output_type": "execute_result"
    }
   ],
   "source": [
    "news.tail(2)"
   ]
  },
  {
   "cell_type": "markdown",
   "metadata": {},
   "source": [
    "## Data augmentation"
   ]
  },
  {
   "cell_type": "code",
   "execution_count": 639,
   "metadata": {},
   "outputs": [],
   "source": [
    "regional_labels = ['l1mburg', \n",
    "                   'nh nieuws', \n",
    "                   'omroep brabant', \n",
    "                   'omrop frylân', \n",
    "                   'omroep gelderland', \n",
    "                   'omroep west',\n",
    "                   'omroep zeeland',\n",
    "                   'rijnmond',\n",
    "                   'rtv rijnmond',\n",
    "                   'rtv drenthe',\n",
    "                   'rtv noord',\n",
    "                   'rtv oost',\n",
    "                   'rtv utrecht'\n",
    "                  ]\n",
    "\n",
    "def contains_omroep(text):\n",
    "    return [omroep for omroep in regional_labels if omroep in text]\n",
    "\n",
    "drug_labels = ['cocaine',\n",
    "                   'ghb',\n",
    "                   'xtc'\n",
    "                  ]\n",
    "\n",
    "def contains_drug(text):\n",
    "    return [drug for drug in drug_labels if drug in text]"
   ]
  },
  {
   "cell_type": "code",
   "execution_count": 640,
   "metadata": {},
   "outputs": [],
   "source": [
    "# create 'omroep' and 'drugs' columns\n",
    "news['omroep'] = news.content.apply(contains_omroep)\n",
    "news['drugs'] = news.content.apply(contains_drug)\n",
    "\n",
    "# add seperate columns for each drug\n",
    "searchfor_cocaine = ['cocaine', 'cocaïne', 'Cocaine', 'Cocaïne']\n",
    "searchfor_GHB = ['ghb', 'GHB']\n",
    "searchfor_XTC = ['xtc', 'XTC']\n",
    "\n",
    "\n",
    "news['cocaine'] = news.content.str.contains('cocaine')\n",
    "news['ghb'] = news.content.str.contains('ghb')\n",
    "news['xtc'] = news.content.str.contains('xtc')"
   ]
  },
  {
   "cell_type": "markdown",
   "metadata": {},
   "source": [
    "## Data inspection"
   ]
  },
  {
   "cell_type": "code",
   "execution_count": 641,
   "metadata": {},
   "outputs": [
    {
     "data": {
      "text/html": [
       "<div>\n",
       "<style scoped>\n",
       "    .dataframe tbody tr th:only-of-type {\n",
       "        vertical-align: middle;\n",
       "    }\n",
       "\n",
       "    .dataframe tbody tr th {\n",
       "        vertical-align: top;\n",
       "    }\n",
       "\n",
       "    .dataframe thead th {\n",
       "        text-align: right;\n",
       "    }\n",
       "</style>\n",
       "<table border=\"1\" class=\"dataframe\">\n",
       "  <thead>\n",
       "    <tr style=\"text-align: right;\">\n",
       "      <th></th>\n",
       "      <th>date</th>\n",
       "      <th>year</th>\n",
       "      <th>week_number</th>\n",
       "      <th>title</th>\n",
       "      <th>content</th>\n",
       "      <th>category</th>\n",
       "      <th>url</th>\n",
       "      <th>omroep</th>\n",
       "      <th>drugs</th>\n",
       "      <th>cocaine</th>\n",
       "      <th>ghb</th>\n",
       "      <th>xtc</th>\n",
       "    </tr>\n",
       "  </thead>\n",
       "  <tbody>\n",
       "    <tr>\n",
       "      <th>73956</th>\n",
       "      <td>2014-01-01</td>\n",
       "      <td>2014</td>\n",
       "      <td>0</td>\n",
       "      <td>Brandweerlieden landelijk belaagd</td>\n",
       "      <td>de brandweer is vannacht op verschillende plaa...</td>\n",
       "      <td>Binnenland</td>\n",
       "      <td>https://nos.nl/artikel/592441-brandweerlieden-...</td>\n",
       "      <td>[omroep west]</td>\n",
       "      <td>[]</td>\n",
       "      <td>False</td>\n",
       "      <td>False</td>\n",
       "      <td>False</td>\n",
       "    </tr>\n",
       "  </tbody>\n",
       "</table>\n",
       "</div>"
      ],
      "text/plain": [
       "            date  year  week_number                              title  \\\n",
       "73956 2014-01-01  2014            0  Brandweerlieden landelijk belaagd   \n",
       "\n",
       "                                                 content    category  \\\n",
       "73956  de brandweer is vannacht op verschillende plaa...  Binnenland   \n",
       "\n",
       "                                                     url         omroep drugs  \\\n",
       "73956  https://nos.nl/artikel/592441-brandweerlieden-...  [omroep west]    []   \n",
       "\n",
       "       cocaine    ghb    xtc  \n",
       "73956    False  False  False  "
      ]
     },
     "execution_count": 641,
     "metadata": {},
     "output_type": "execute_result"
    }
   ],
   "source": [
    "news[news.omroep.apply(len)>0].head(1)"
   ]
  },
  {
   "cell_type": "code",
   "execution_count": 642,
   "metadata": {},
   "outputs": [
    {
     "data": {
      "text/html": [
       "<div>\n",
       "<style scoped>\n",
       "    .dataframe tbody tr th:only-of-type {\n",
       "        vertical-align: middle;\n",
       "    }\n",
       "\n",
       "    .dataframe tbody tr th {\n",
       "        vertical-align: top;\n",
       "    }\n",
       "\n",
       "    .dataframe thead th {\n",
       "        text-align: right;\n",
       "    }\n",
       "</style>\n",
       "<table border=\"1\" class=\"dataframe\">\n",
       "  <thead>\n",
       "    <tr style=\"text-align: right;\">\n",
       "      <th></th>\n",
       "      <th>date</th>\n",
       "      <th>year</th>\n",
       "      <th>week_number</th>\n",
       "      <th>title</th>\n",
       "      <th>content</th>\n",
       "      <th>category</th>\n",
       "      <th>url</th>\n",
       "      <th>omroep</th>\n",
       "      <th>drugs</th>\n",
       "      <th>cocaine</th>\n",
       "      <th>ghb</th>\n",
       "      <th>xtc</th>\n",
       "    </tr>\n",
       "  </thead>\n",
       "  <tbody>\n",
       "    <tr>\n",
       "      <th>74050</th>\n",
       "      <td>2014-01-03</td>\n",
       "      <td>2014</td>\n",
       "      <td>0</td>\n",
       "      <td>'Crackburgemeester' wil 2e termijn</td>\n",
       "      <td>burgemeester rob ford van toronto heeft zich k...</td>\n",
       "      <td>Buitenland</td>\n",
       "      <td>https://nos.nl/artikel/593027-crackburgemeeste...</td>\n",
       "      <td>[]</td>\n",
       "      <td>[cocaine]</td>\n",
       "      <td>True</td>\n",
       "      <td>False</td>\n",
       "      <td>False</td>\n",
       "    </tr>\n",
       "  </tbody>\n",
       "</table>\n",
       "</div>"
      ],
      "text/plain": [
       "            date  year  week_number                               title  \\\n",
       "74050 2014-01-03  2014            0  'Crackburgemeester' wil 2e termijn   \n",
       "\n",
       "                                                 content    category  \\\n",
       "74050  burgemeester rob ford van toronto heeft zich k...  Buitenland   \n",
       "\n",
       "                                                     url omroep      drugs  \\\n",
       "74050  https://nos.nl/artikel/593027-crackburgemeeste...     []  [cocaine]   \n",
       "\n",
       "       cocaine    ghb    xtc  \n",
       "74050     True  False  False  "
      ]
     },
     "execution_count": 642,
     "metadata": {},
     "output_type": "execute_result"
    }
   ],
   "source": [
    "news[news.drugs.apply(len)>0].head(1)"
   ]
  },
  {
   "cell_type": "code",
   "execution_count": 661,
   "metadata": {},
   "outputs": [
    {
     "data": {
      "image/png": "[encoded data removed]",
      "text/plain": [
       "<Figure size 640x480 with 1 Axes>"
      ]
     },
     "metadata": {},
     "output_type": "display_data"
    }
   ],
   "source": [
    "cocaine = news[news['cocaine'] == True].groupby(['year'])['cocaine'].count()\n",
    "ghb = news[news['ghb'] == True].groupby(['year'])['ghb'].count()\n",
    "xtc = news[news['xtc'] == True].groupby(['year'])['xtc'].count()\n",
    "\n",
    "plt.plot(cocaine.index, cocaine.values, label='cocaine')\n",
    "plt.plot(ghb.index, ghb.values, label='ghb')\n",
    "plt.plot(xtc.index, xtc.values, label='xtc')\n",
    "plt.xlabel('Year')\n",
    "plt.ylabel('Times drugs was mentioned per year')\n",
    "plt.legend()\n",
    "plt.show()\n"
   ]
  },
  {
   "cell_type": "code",
   "execution_count": 662,
   "metadata": {},
   "outputs": [
    {
     "data": {
      "text/plain": [
       "array([2017])"
      ]
     },
     "execution_count": 662,
     "metadata": {},
     "output_type": "execute_result"
    }
   ],
   "source": [
    "news[news.week_number==53].year.unique()"
   ]
  },
  {
   "cell_type": "markdown",
   "metadata": {},
   "source": [
    "### Create data subsets for dashboard"
   ]
  },
  {
   "cell_type": "markdown",
   "metadata": {},
   "source": [
    "#### compute absolute scores for drug articles per week per drug"
   ]
  },
  {
   "cell_type": "code",
   "execution_count": 663,
   "metadata": {},
   "outputs": [],
   "source": [
    "cocaine = pd.DataFrame(news[news['cocaine'] == True].groupby(['year', 'week_number'])['content'].count()).reset_index()\n",
    "xtc = pd.DataFrame(news[news['xtc'] == True].groupby(['year', 'week_number'])['content'].count()).reset_index()\n",
    "ghb = pd.DataFrame(news[news['ghb'] == True].groupby(['year', 'week_number'])['content'].count()).reset_index()"
   ]
  },
  {
   "cell_type": "code",
   "execution_count": 664,
   "metadata": {},
   "outputs": [
    {
     "data": {
      "text/html": [
       "<div>\n",
       "<style scoped>\n",
       "    .dataframe tbody tr th:only-of-type {\n",
       "        vertical-align: middle;\n",
       "    }\n",
       "\n",
       "    .dataframe tbody tr th {\n",
       "        vertical-align: top;\n",
       "    }\n",
       "\n",
       "    .dataframe thead th {\n",
       "        text-align: right;\n",
       "    }\n",
       "</style>\n",
       "<table border=\"1\" class=\"dataframe\">\n",
       "  <thead>\n",
       "    <tr style=\"text-align: right;\">\n",
       "      <th></th>\n",
       "      <th>year</th>\n",
       "      <th>week_number</th>\n",
       "      <th>content</th>\n",
       "    </tr>\n",
       "  </thead>\n",
       "  <tbody>\n",
       "    <tr>\n",
       "      <th>184</th>\n",
       "      <td>2017</td>\n",
       "      <td>53</td>\n",
       "      <td>1</td>\n",
       "    </tr>\n",
       "  </tbody>\n",
       "</table>\n",
       "</div>"
      ],
      "text/plain": [
       "     year  week_number  content\n",
       "184  2017           53        1"
      ]
     },
     "execution_count": 664,
     "metadata": {},
     "output_type": "execute_result"
    }
   ],
   "source": [
    "cocaine[cocaine.week_number==53]"
   ]
  },
  {
   "cell_type": "markdown",
   "metadata": {},
   "source": [
    "#### Handle week zero"
   ]
  },
  {
   "cell_type": "code",
   "execution_count": 665,
   "metadata": {},
   "outputs": [
    {
     "data": {
      "text/html": [
       "<div>\n",
       "<style scoped>\n",
       "    .dataframe tbody tr th:only-of-type {\n",
       "        vertical-align: middle;\n",
       "    }\n",
       "\n",
       "    .dataframe tbody tr th {\n",
       "        vertical-align: top;\n",
       "    }\n",
       "\n",
       "    .dataframe thead th {\n",
       "        text-align: right;\n",
       "    }\n",
       "</style>\n",
       "<table border=\"1\" class=\"dataframe\">\n",
       "  <thead>\n",
       "    <tr style=\"text-align: right;\">\n",
       "      <th></th>\n",
       "      <th>year</th>\n",
       "      <th>week_number</th>\n",
       "      <th>content</th>\n",
       "    </tr>\n",
       "  </thead>\n",
       "  <tbody>\n",
       "    <tr>\n",
       "      <th>0</th>\n",
       "      <td>2014</td>\n",
       "      <td>0</td>\n",
       "      <td>2</td>\n",
       "    </tr>\n",
       "    <tr>\n",
       "      <th>1</th>\n",
       "      <td>2014</td>\n",
       "      <td>1</td>\n",
       "      <td>2</td>\n",
       "    </tr>\n",
       "    <tr>\n",
       "      <th>2</th>\n",
       "      <td>2014</td>\n",
       "      <td>2</td>\n",
       "      <td>6</td>\n",
       "    </tr>\n",
       "    <tr>\n",
       "      <th>3</th>\n",
       "      <td>2014</td>\n",
       "      <td>3</td>\n",
       "      <td>1</td>\n",
       "    </tr>\n",
       "    <tr>\n",
       "      <th>4</th>\n",
       "      <td>2014</td>\n",
       "      <td>6</td>\n",
       "      <td>4</td>\n",
       "    </tr>\n",
       "  </tbody>\n",
       "</table>\n",
       "</div>"
      ],
      "text/plain": [
       "   year  week_number  content\n",
       "0  2014            0        2\n",
       "1  2014            1        2\n",
       "2  2014            2        6\n",
       "3  2014            3        1\n",
       "4  2014            6        4"
      ]
     },
     "execution_count": 665,
     "metadata": {},
     "output_type": "execute_result"
    }
   ],
   "source": [
    "cocaine.head()"
   ]
  },
  {
   "cell_type": "code",
   "execution_count": 666,
   "metadata": {},
   "outputs": [],
   "source": [
    "cocaine = handle_week_zero(cocaine)\n",
    "xtc = handle_week_zero(xtc)\n",
    "ghb = handle_week_zero(ghb)"
   ]
  },
  {
   "cell_type": "code",
   "execution_count": 667,
   "metadata": {},
   "outputs": [
    {
     "data": {
      "text/html": [
       "<div>\n",
       "<style scoped>\n",
       "    .dataframe tbody tr th:only-of-type {\n",
       "        vertical-align: middle;\n",
       "    }\n",
       "\n",
       "    .dataframe tbody tr th {\n",
       "        vertical-align: top;\n",
       "    }\n",
       "\n",
       "    .dataframe thead th {\n",
       "        text-align: right;\n",
       "    }\n",
       "</style>\n",
       "<table border=\"1\" class=\"dataframe\">\n",
       "  <thead>\n",
       "    <tr style=\"text-align: right;\">\n",
       "      <th></th>\n",
       "      <th>year</th>\n",
       "      <th>week_number</th>\n",
       "      <th>content</th>\n",
       "    </tr>\n",
       "  </thead>\n",
       "  <tbody>\n",
       "    <tr>\n",
       "      <th>0</th>\n",
       "      <td>2014</td>\n",
       "      <td>1</td>\n",
       "      <td>2</td>\n",
       "    </tr>\n",
       "    <tr>\n",
       "      <th>1</th>\n",
       "      <td>2014</td>\n",
       "      <td>2</td>\n",
       "      <td>6</td>\n",
       "    </tr>\n",
       "    <tr>\n",
       "      <th>2</th>\n",
       "      <td>2014</td>\n",
       "      <td>3</td>\n",
       "      <td>1</td>\n",
       "    </tr>\n",
       "    <tr>\n",
       "      <th>3</th>\n",
       "      <td>2014</td>\n",
       "      <td>6</td>\n",
       "      <td>4</td>\n",
       "    </tr>\n",
       "    <tr>\n",
       "      <th>4</th>\n",
       "      <td>2014</td>\n",
       "      <td>8</td>\n",
       "      <td>2</td>\n",
       "    </tr>\n",
       "  </tbody>\n",
       "</table>\n",
       "</div>"
      ],
      "text/plain": [
       "   year  week_number  content\n",
       "0  2014            1        2\n",
       "1  2014            2        6\n",
       "2  2014            3        1\n",
       "3  2014            6        4\n",
       "4  2014            8        2"
      ]
     },
     "execution_count": 667,
     "metadata": {},
     "output_type": "execute_result"
    }
   ],
   "source": [
    "cocaine.head()"
   ]
  },
  {
   "cell_type": "code",
   "execution_count": 669,
   "metadata": {},
   "outputs": [
    {
     "data": {
      "text/html": [
       "<div>\n",
       "<style scoped>\n",
       "    .dataframe tbody tr th:only-of-type {\n",
       "        vertical-align: middle;\n",
       "    }\n",
       "\n",
       "    .dataframe tbody tr th {\n",
       "        vertical-align: top;\n",
       "    }\n",
       "\n",
       "    .dataframe thead th {\n",
       "        text-align: right;\n",
       "    }\n",
       "</style>\n",
       "<table border=\"1\" class=\"dataframe\">\n",
       "  <thead>\n",
       "    <tr style=\"text-align: right;\">\n",
       "      <th></th>\n",
       "      <th>year</th>\n",
       "      <th>week_number</th>\n",
       "      <th>content</th>\n",
       "    </tr>\n",
       "  </thead>\n",
       "  <tbody>\n",
       "    <tr>\n",
       "      <th>183</th>\n",
       "      <td>2017</td>\n",
       "      <td>53</td>\n",
       "      <td>4</td>\n",
       "    </tr>\n",
       "  </tbody>\n",
       "</table>\n",
       "</div>"
      ],
      "text/plain": [
       "     year  week_number  content\n",
       "183  2017           53        4"
      ]
     },
     "execution_count": 669,
     "metadata": {},
     "output_type": "execute_result"
    }
   ],
   "source": [
    "cocaine[cocaine.week_number==53]"
   ]
  },
  {
   "cell_type": "markdown",
   "metadata": {},
   "source": [
    "#### Handle missing weeks \n",
    "Make sure to have this in every notebook"
   ]
  },
  {
   "cell_type": "code",
   "execution_count": 670,
   "metadata": {},
   "outputs": [],
   "source": [
    "cocaine = handle_missing_weeks(cocaine)\n",
    "xtc = handle_missing_weeks(xtc)\n",
    "ghb = handle_missing_weeks(ghb)"
   ]
  },
  {
   "cell_type": "code",
   "execution_count": 671,
   "metadata": {},
   "outputs": [
    {
     "data": {
      "text/plain": [
       "array([2017])"
      ]
     },
     "execution_count": 671,
     "metadata": {},
     "output_type": "execute_result"
    }
   ],
   "source": [
    "cocaine[cocaine.week_number==53].year.unique()"
   ]
  },
  {
   "cell_type": "code",
   "execution_count": 672,
   "metadata": {},
   "outputs": [
    {
     "data": {
      "text/html": [
       "<div>\n",
       "<style scoped>\n",
       "    .dataframe tbody tr th:only-of-type {\n",
       "        vertical-align: middle;\n",
       "    }\n",
       "\n",
       "    .dataframe tbody tr th {\n",
       "        vertical-align: top;\n",
       "    }\n",
       "\n",
       "    .dataframe thead th {\n",
       "        text-align: right;\n",
       "    }\n",
       "</style>\n",
       "<table border=\"1\" class=\"dataframe\">\n",
       "  <thead>\n",
       "    <tr style=\"text-align: right;\">\n",
       "      <th></th>\n",
       "      <th>year</th>\n",
       "      <th>week_number</th>\n",
       "      <th>content</th>\n",
       "    </tr>\n",
       "  </thead>\n",
       "  <tbody>\n",
       "    <tr>\n",
       "      <th>0</th>\n",
       "      <td>2014</td>\n",
       "      <td>1</td>\n",
       "      <td>2</td>\n",
       "    </tr>\n",
       "    <tr>\n",
       "      <th>1</th>\n",
       "      <td>2014</td>\n",
       "      <td>2</td>\n",
       "      <td>6</td>\n",
       "    </tr>\n",
       "    <tr>\n",
       "      <th>2</th>\n",
       "      <td>2014</td>\n",
       "      <td>3</td>\n",
       "      <td>1</td>\n",
       "    </tr>\n",
       "    <tr>\n",
       "      <th>3</th>\n",
       "      <td>2014</td>\n",
       "      <td>4</td>\n",
       "      <td>0</td>\n",
       "    </tr>\n",
       "    <tr>\n",
       "      <th>4</th>\n",
       "      <td>2014</td>\n",
       "      <td>5</td>\n",
       "      <td>0</td>\n",
       "    </tr>\n",
       "  </tbody>\n",
       "</table>\n",
       "</div>"
      ],
      "text/plain": [
       "   year  week_number  content\n",
       "0  2014            1        2\n",
       "1  2014            2        6\n",
       "2  2014            3        1\n",
       "3  2014            4        0\n",
       "4  2014            5        0"
      ]
     },
     "execution_count": 672,
     "metadata": {},
     "output_type": "execute_result"
    }
   ],
   "source": [
    "cocaine.head()"
   ]
  },
  {
   "cell_type": "markdown",
   "metadata": {},
   "source": [
    "#### Compute relative scores for drug articles per week per drug"
   ]
  },
  {
   "cell_type": "code",
   "execution_count": 673,
   "metadata": {},
   "outputs": [],
   "source": [
    "cocaine = get_relative_scores_per_year(cocaine)\n",
    "xtc = get_relative_scores_per_year(xtc)\n",
    "ghb = get_relative_scores_per_year(ghb)"
   ]
  },
  {
   "cell_type": "code",
   "execution_count": 674,
   "metadata": {
    "scrolled": true
   },
   "outputs": [
    {
     "data": {
      "text/html": [
       "<div>\n",
       "<style scoped>\n",
       "    .dataframe tbody tr th:only-of-type {\n",
       "        vertical-align: middle;\n",
       "    }\n",
       "\n",
       "    .dataframe tbody tr th {\n",
       "        vertical-align: top;\n",
       "    }\n",
       "\n",
       "    .dataframe thead th {\n",
       "        text-align: right;\n",
       "    }\n",
       "</style>\n",
       "<table border=\"1\" class=\"dataframe\">\n",
       "  <thead>\n",
       "    <tr style=\"text-align: right;\">\n",
       "      <th></th>\n",
       "      <th>year</th>\n",
       "      <th>week_number</th>\n",
       "      <th>content</th>\n",
       "      <th>relative_yearly</th>\n",
       "    </tr>\n",
       "  </thead>\n",
       "  <tbody>\n",
       "    <tr>\n",
       "      <th>0</th>\n",
       "      <td>2014</td>\n",
       "      <td>1</td>\n",
       "      <td>2</td>\n",
       "      <td>33.333333</td>\n",
       "    </tr>\n",
       "    <tr>\n",
       "      <th>1</th>\n",
       "      <td>2014</td>\n",
       "      <td>2</td>\n",
       "      <td>6</td>\n",
       "      <td>100.000000</td>\n",
       "    </tr>\n",
       "    <tr>\n",
       "      <th>2</th>\n",
       "      <td>2014</td>\n",
       "      <td>3</td>\n",
       "      <td>1</td>\n",
       "      <td>16.666667</td>\n",
       "    </tr>\n",
       "    <tr>\n",
       "      <th>3</th>\n",
       "      <td>2014</td>\n",
       "      <td>4</td>\n",
       "      <td>0</td>\n",
       "      <td>0.000000</td>\n",
       "    </tr>\n",
       "    <tr>\n",
       "      <th>4</th>\n",
       "      <td>2014</td>\n",
       "      <td>5</td>\n",
       "      <td>0</td>\n",
       "      <td>0.000000</td>\n",
       "    </tr>\n",
       "  </tbody>\n",
       "</table>\n",
       "</div>"
      ],
      "text/plain": [
       "   year  week_number  content  relative_yearly\n",
       "0  2014            1        2        33.333333\n",
       "1  2014            2        6       100.000000\n",
       "2  2014            3        1        16.666667\n",
       "3  2014            4        0         0.000000\n",
       "4  2014            5        0         0.000000"
      ]
     },
     "execution_count": 674,
     "metadata": {},
     "output_type": "execute_result"
    }
   ],
   "source": [
    "cocaine.head()"
   ]
  },
  {
   "cell_type": "code",
   "execution_count": 675,
   "metadata": {},
   "outputs": [
    {
     "data": {
      "text/html": [
       "<div>\n",
       "<style scoped>\n",
       "    .dataframe tbody tr th:only-of-type {\n",
       "        vertical-align: middle;\n",
       "    }\n",
       "\n",
       "    .dataframe tbody tr th {\n",
       "        vertical-align: top;\n",
       "    }\n",
       "\n",
       "    .dataframe thead th {\n",
       "        text-align: right;\n",
       "    }\n",
       "</style>\n",
       "<table border=\"1\" class=\"dataframe\">\n",
       "  <thead>\n",
       "    <tr style=\"text-align: right;\">\n",
       "      <th></th>\n",
       "      <th>year</th>\n",
       "      <th>week_number</th>\n",
       "      <th>content</th>\n",
       "      <th>relative_yearly</th>\n",
       "    </tr>\n",
       "  </thead>\n",
       "  <tbody>\n",
       "    <tr>\n",
       "      <th>208</th>\n",
       "      <td>2017</td>\n",
       "      <td>53</td>\n",
       "      <td>4</td>\n",
       "      <td>44.444444</td>\n",
       "    </tr>\n",
       "  </tbody>\n",
       "</table>\n",
       "</div>"
      ],
      "text/plain": [
       "     year  week_number  content  relative_yearly\n",
       "208  2017           53        4        44.444444"
      ]
     },
     "execution_count": 675,
     "metadata": {},
     "output_type": "execute_result"
    }
   ],
   "source": [
    "cocaine[cocaine.week_number==53]"
   ]
  },
  {
   "cell_type": "markdown",
   "metadata": {},
   "source": [
    "#### Scaling on all years "
   ]
  },
  {
   "cell_type": "code",
   "execution_count": 676,
   "metadata": {},
   "outputs": [],
   "source": [
    "cocaine = scale_year_range(cocaine, 'content', 2014, 2023)\n",
    "xtc = scale_year_range(xtc, 'content', 2014, 2023)\n",
    "ghb = scale_year_range(ghb, 'content', 2014, 2023)"
   ]
  },
  {
   "cell_type": "code",
   "execution_count": 677,
   "metadata": {},
   "outputs": [
    {
     "data": {
      "text/html": [
       "<div>\n",
       "<style scoped>\n",
       "    .dataframe tbody tr th:only-of-type {\n",
       "        vertical-align: middle;\n",
       "    }\n",
       "\n",
       "    .dataframe tbody tr th {\n",
       "        vertical-align: top;\n",
       "    }\n",
       "\n",
       "    .dataframe thead th {\n",
       "        text-align: right;\n",
       "    }\n",
       "</style>\n",
       "<table border=\"1\" class=\"dataframe\">\n",
       "  <thead>\n",
       "    <tr style=\"text-align: right;\">\n",
       "      <th></th>\n",
       "      <th>year</th>\n",
       "      <th>week_number</th>\n",
       "      <th>content</th>\n",
       "      <th>relative_yearly</th>\n",
       "      <th>relative_period</th>\n",
       "    </tr>\n",
       "  </thead>\n",
       "  <tbody>\n",
       "    <tr>\n",
       "      <th>0</th>\n",
       "      <td>2014</td>\n",
       "      <td>1</td>\n",
       "      <td>2</td>\n",
       "      <td>33.333333</td>\n",
       "      <td>16.666667</td>\n",
       "    </tr>\n",
       "    <tr>\n",
       "      <th>1</th>\n",
       "      <td>2014</td>\n",
       "      <td>2</td>\n",
       "      <td>6</td>\n",
       "      <td>100.000000</td>\n",
       "      <td>50.000000</td>\n",
       "    </tr>\n",
       "    <tr>\n",
       "      <th>2</th>\n",
       "      <td>2014</td>\n",
       "      <td>3</td>\n",
       "      <td>1</td>\n",
       "      <td>16.666667</td>\n",
       "      <td>8.333333</td>\n",
       "    </tr>\n",
       "    <tr>\n",
       "      <th>3</th>\n",
       "      <td>2014</td>\n",
       "      <td>4</td>\n",
       "      <td>0</td>\n",
       "      <td>0.000000</td>\n",
       "      <td>0.000000</td>\n",
       "    </tr>\n",
       "    <tr>\n",
       "      <th>4</th>\n",
       "      <td>2014</td>\n",
       "      <td>5</td>\n",
       "      <td>0</td>\n",
       "      <td>0.000000</td>\n",
       "      <td>0.000000</td>\n",
       "    </tr>\n",
       "  </tbody>\n",
       "</table>\n",
       "</div>"
      ],
      "text/plain": [
       "   year  week_number  content  relative_yearly  relative_period\n",
       "0  2014            1        2        33.333333        16.666667\n",
       "1  2014            2        6       100.000000        50.000000\n",
       "2  2014            3        1        16.666667         8.333333\n",
       "3  2014            4        0         0.000000         0.000000\n",
       "4  2014            5        0         0.000000         0.000000"
      ]
     },
     "execution_count": 677,
     "metadata": {},
     "output_type": "execute_result"
    }
   ],
   "source": [
    "cocaine.head()"
   ]
  },
  {
   "cell_type": "markdown",
   "metadata": {},
   "source": [
    "## Save subsets as files"
   ]
  },
  {
   "cell_type": "code",
   "execution_count": 678,
   "metadata": {},
   "outputs": [],
   "source": [
    "cocaine.to_csv(\"datasets/cocaine_NOS.csv\", index=False)\n",
    "xtc.to_csv(\"datasets/xtc_NOS.csv\", index=False)\n",
    "ghb.to_csv(\"datasets/ghb_NOS.csv\", index=False)"
   ]
  },
  {
   "cell_type": "code",
   "execution_count": 679,
   "metadata": {},
   "outputs": [
    {
     "data": {
      "text/html": [
       "<div>\n",
       "<style scoped>\n",
       "    .dataframe tbody tr th:only-of-type {\n",
       "        vertical-align: middle;\n",
       "    }\n",
       "\n",
       "    .dataframe tbody tr th {\n",
       "        vertical-align: top;\n",
       "    }\n",
       "\n",
       "    .dataframe thead th {\n",
       "        text-align: right;\n",
       "    }\n",
       "</style>\n",
       "<table border=\"1\" class=\"dataframe\">\n",
       "  <thead>\n",
       "    <tr style=\"text-align: right;\">\n",
       "      <th></th>\n",
       "      <th>year</th>\n",
       "      <th>week_number</th>\n",
       "      <th>content</th>\n",
       "      <th>relative_yearly</th>\n",
       "      <th>relative_period</th>\n",
       "    </tr>\n",
       "  </thead>\n",
       "  <tbody>\n",
       "    <tr>\n",
       "      <th>208</th>\n",
       "      <td>2017</td>\n",
       "      <td>53</td>\n",
       "      <td>4</td>\n",
       "      <td>44.444444</td>\n",
       "      <td>33.333333</td>\n",
       "    </tr>\n",
       "  </tbody>\n",
       "</table>\n",
       "</div>"
      ],
      "text/plain": [
       "     year  week_number  content  relative_yearly  relative_period\n",
       "208  2017           53        4        44.444444        33.333333"
      ]
     },
     "execution_count": 679,
     "metadata": {},
     "output_type": "execute_result"
    }
   ],
   "source": [
    "cocaine[cocaine.week_number==53]"
   ]
  },
  {
   "cell_type": "code",
   "execution_count": null,
   "metadata": {},
   "outputs": [],
   "source": []
  }
 ],
 "metadata": {
  "kernelspec": {
   "display_name": "Python 3 (ipykernel)",
   "language": "python",
   "name": "python3"
  },
  "language_info": {
   "codemirror_mode": {
    "name": "ipython",
    "version": 3
   },
   "file_extension": ".py",
   "mimetype": "text/x-python",
   "name": "python",
   "nbconvert_exporter": "python",
   "pygments_lexer": "ipython3",
   "version": "3.9.11"
  }
 },
 "nbformat": 4,
 "nbformat_minor": 4
}
