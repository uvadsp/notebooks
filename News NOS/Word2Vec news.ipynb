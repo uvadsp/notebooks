{
 "cells": [
  {
   "cell_type": "code",
   "execution_count": 2,
   "id": "d01b0082",
   "metadata": {},
   "outputs": [],
   "source": [
    "import pandas as pd\n",
    "# !pip install gensim\n",
    "import re"
   ]
  },
  {
   "cell_type": "code",
   "execution_count": 3,
   "id": "3badb302",
   "metadata": {},
   "outputs": [],
   "source": [
    "news = pd.read_csv('dutch-news-articles.csv')"
   ]
  },
  {
   "cell_type": "code",
   "execution_count": 4,
   "id": "23c4f0a2",
   "metadata": {},
   "outputs": [
    {
     "data": {
      "text/html": [
       "<div>\n",
       "<style scoped>\n",
       "    .dataframe tbody tr th:only-of-type {\n",
       "        vertical-align: middle;\n",
       "    }\n",
       "\n",
       "    .dataframe tbody tr th {\n",
       "        vertical-align: top;\n",
       "    }\n",
       "\n",
       "    .dataframe thead th {\n",
       "        text-align: right;\n",
       "    }\n",
       "</style>\n",
       "<table border=\"1\" class=\"dataframe\">\n",
       "  <thead>\n",
       "    <tr style=\"text-align: right;\">\n",
       "      <th></th>\n",
       "      <th>datetime</th>\n",
       "      <th>title</th>\n",
       "      <th>content</th>\n",
       "      <th>category</th>\n",
       "      <th>url</th>\n",
       "    </tr>\n",
       "  </thead>\n",
       "  <tbody>\n",
       "    <tr>\n",
       "      <th>0</th>\n",
       "      <td>2010-01-01 00:49:00</td>\n",
       "      <td>Enige Litouwse kerncentrale dicht</td>\n",
       "      <td>De enige kerncentrale van Litouwen is oudjaars...</td>\n",
       "      <td>Buitenland</td>\n",
       "      <td>https://nos.nl/artikel/126231-enige-litouwse-k...</td>\n",
       "    </tr>\n",
       "    <tr>\n",
       "      <th>1</th>\n",
       "      <td>2010-01-01 02:08:00</td>\n",
       "      <td>Spanje eerste EU-voorzitter onder nieuw verdrag</td>\n",
       "      <td>Spanje is met ingang van vandaag voorzitter va...</td>\n",
       "      <td>Buitenland</td>\n",
       "      <td>https://nos.nl/artikel/126230-spanje-eerste-eu...</td>\n",
       "    </tr>\n",
       "    <tr>\n",
       "      <th>2</th>\n",
       "      <td>2010-01-01 02:09:00</td>\n",
       "      <td>Fout justitie in Blackwater-zaak</td>\n",
       "      <td>Vijf werknemers van het omstreden Amerikaanse ...</td>\n",
       "      <td>Buitenland</td>\n",
       "      <td>https://nos.nl/artikel/126233-fout-justitie-in...</td>\n",
       "    </tr>\n",
       "    <tr>\n",
       "      <th>3</th>\n",
       "      <td>2010-01-01 05:14:00</td>\n",
       "      <td>Museumplein vol, minder druk in Rotterdam</td>\n",
       "      <td>Het Oud en Nieuwfeest op het Museumplein in Am...</td>\n",
       "      <td>Binnenland</td>\n",
       "      <td>https://nos.nl/artikel/126232-museumplein-vol-...</td>\n",
       "    </tr>\n",
       "    <tr>\n",
       "      <th>4</th>\n",
       "      <td>2010-01-01 05:30:00</td>\n",
       "      <td>Obama krijgt rapporten over aanslag</td>\n",
       "      <td>President Obama heeft de eerste rapporten gekr...</td>\n",
       "      <td>Buitenland</td>\n",
       "      <td>https://nos.nl/artikel/126236-obama-krijgt-rap...</td>\n",
       "    </tr>\n",
       "  </tbody>\n",
       "</table>\n",
       "</div>"
      ],
      "text/plain": [
       "              datetime                                            title  \\\n",
       "0  2010-01-01 00:49:00                Enige Litouwse kerncentrale dicht   \n",
       "1  2010-01-01 02:08:00  Spanje eerste EU-voorzitter onder nieuw verdrag   \n",
       "2  2010-01-01 02:09:00                 Fout justitie in Blackwater-zaak   \n",
       "3  2010-01-01 05:14:00        Museumplein vol, minder druk in Rotterdam   \n",
       "4  2010-01-01 05:30:00              Obama krijgt rapporten over aanslag   \n",
       "\n",
       "                                             content    category  \\\n",
       "0  De enige kerncentrale van Litouwen is oudjaars...  Buitenland   \n",
       "1  Spanje is met ingang van vandaag voorzitter va...  Buitenland   \n",
       "2  Vijf werknemers van het omstreden Amerikaanse ...  Buitenland   \n",
       "3  Het Oud en Nieuwfeest op het Museumplein in Am...  Binnenland   \n",
       "4  President Obama heeft de eerste rapporten gekr...  Buitenland   \n",
       "\n",
       "                                                 url  \n",
       "0  https://nos.nl/artikel/126231-enige-litouwse-k...  \n",
       "1  https://nos.nl/artikel/126230-spanje-eerste-eu...  \n",
       "2  https://nos.nl/artikel/126233-fout-justitie-in...  \n",
       "3  https://nos.nl/artikel/126232-museumplein-vol-...  \n",
       "4  https://nos.nl/artikel/126236-obama-krijgt-rap...  "
      ]
     },
     "execution_count": 4,
     "metadata": {},
     "output_type": "execute_result"
    }
   ],
   "source": [
    "news.head()"
   ]
  },
  {
   "cell_type": "code",
   "execution_count": 5,
   "id": "fb359b45",
   "metadata": {},
   "outputs": [],
   "source": [
    "regional_labels = ['L1mburg', \n",
    "                   'NH Nieuws', \n",
    "                   'Omroep Brabant', \n",
    "                   'Omrop Frylân', \n",
    "                   'Omroep Gelderland', \n",
    "                   'Omroep West',\n",
    "                   'Omroep Zeeland',\n",
    "                   'Rijnmond',\n",
    "                   'RTV Rijnmond',\n",
    "                   'RTV Drenthe',\n",
    "                   'RTV Noord',\n",
    "                   'RTV Oost',\n",
    "                   'RTV Utrecht'\n",
    "                  ]\n",
    "\n",
    "def contains_label(text):\n",
    "    return [label for label in regional_labels if label in text]"
   ]
  },
  {
   "cell_type": "code",
   "execution_count": 6,
   "id": "6fe70668",
   "metadata": {},
   "outputs": [],
   "source": [
    "news['omroep'] = news.content.apply(contains_label)"
   ]
  },
  {
   "cell_type": "code",
   "execution_count": 7,
   "id": "10b14a62",
   "metadata": {},
   "outputs": [
    {
     "data": {
      "text/plain": [
       "(15549, 6)"
      ]
     },
     "execution_count": 7,
     "metadata": {},
     "output_type": "execute_result"
    }
   ],
   "source": [
    "news[news.omroep.apply(len)>0].shape"
   ]
  },
  {
   "cell_type": "code",
   "execution_count": 8,
   "id": "7473747d",
   "metadata": {
    "scrolled": true
   },
   "outputs": [],
   "source": [
    "# news[(news['omroep'].apply(len)>1) & (news.content.str.contains('drug'))].reset_index().loc[0]"
   ]
  },
  {
   "cell_type": "markdown",
   "id": "da5295f6",
   "metadata": {},
   "source": [
    "## Word2Vec"
   ]
  },
  {
   "cell_type": "markdown",
   "id": "1b5a0dab",
   "metadata": {},
   "source": [
    "### Process text"
   ]
  },
  {
   "cell_type": "code",
   "execution_count": 9,
   "id": "a206553b",
   "metadata": {},
   "outputs": [],
   "source": [
    "def split_into_sentences(text):\n",
    "    sentences = re.split(r'(?<=[^A-Z].[.?]) +(?=[A-Z])|\\n', text)\n",
    "    sentences = [x for x in sentences if len(x) > 1]\n",
    "    return sentences"
   ]
  },
  {
   "cell_type": "code",
   "execution_count": 10,
   "id": "c49886f5",
   "metadata": {},
   "outputs": [
    {
     "name": "stdout",
     "output_type": "stream",
     "text": [
      "Sentence count: 3477825\n",
      "Word count: 62407090\n"
     ]
    }
   ],
   "source": [
    "# remove punctuation\n",
    "\n",
    "sentence_list_by_word = []\n",
    "sentence_list = []\n",
    "\n",
    "for i in range(len(news)):\n",
    "    doc = news.iloc[i]['content']\n",
    "    sentences = split_into_sentences(doc)\n",
    "    sentence_list.append(sentences)\n",
    "    for j in sentences:\n",
    "        word_list = [x for x in j.lower().rstrip().replace('.', '').split(' ') if len(x)>0]\n",
    "        sentence_list_by_word.append(word_list)\n",
    "        \n",
    "\n",
    "\n",
    "wordlen = 0\n",
    "for i in sentence_list_by_word:\n",
    "    wordlen += len(i)\n",
    "    \n",
    "print(f\"Sentence count: {len(sentence_list_by_word)}\")\n",
    "print(f\"Word count: {wordlen}\")"
   ]
  },
  {
   "cell_type": "markdown",
   "id": "7c8a935d",
   "metadata": {},
   "source": [
    "### Train model"
   ]
  },
  {
   "cell_type": "code",
   "execution_count": 11,
   "id": "cdf92649",
   "metadata": {},
   "outputs": [],
   "source": [
    "from gensim.test.utils import common_texts\n",
    "from gensim.models import Word2Vec\n",
    "\n",
    "news_model = Word2Vec(sentences=sentence_list_by_word, vector_size=100, window=5, min_count=1, workers=4)\n",
    "news_model.save(\"news_word2vec.model\")\n",
    "news_model = Word2Vec.load(\"news_word2vec.model\")"
   ]
  },
  {
   "cell_type": "code",
   "execution_count": 14,
   "id": "c2397159",
   "metadata": {},
   "outputs": [],
   "source": [
    "# list_of_drugs = ['xtc', 'mdma', 'cocaine', 'wiet']\n",
    "list_of_drugs = ['mdma']\n",
    "\n",
    "top_n=10\n",
    "\n",
    "sims={drug:news_model.wv.most_similar(drug, topn=top_n) for drug in list_of_drugs}"
   ]
  },
  {
   "cell_type": "code",
   "execution_count": 15,
   "id": "a3ab4157",
   "metadata": {},
   "outputs": [
    {
     "data": {
      "text/plain": [
       "{'mdma': [('amfetamine', 0.8705504536628723),\n",
       "  ('methamfetamine', 0.8429946303367615),\n",
       "  ('ketamine', 0.840532124042511),\n",
       "  ('xtc', 0.8359721302986145),\n",
       "  ('mdma,', 0.8297138214111328),\n",
       "  ('cocaïne,', 0.822767972946167),\n",
       "  ('partydrug', 0.8208773732185364),\n",
       "  ('xtc,', 0.8182334899902344),\n",
       "  ('fentanyl', 0.8048309087753296),\n",
       "  ('meth', 0.8022823929786682)]}"
      ]
     },
     "execution_count": 15,
     "metadata": {},
     "output_type": "execute_result"
    }
   ],
   "source": [
    "sims"
   ]
  },
  {
   "cell_type": "code",
   "execution_count": 16,
   "id": "2a63532b",
   "metadata": {},
   "outputs": [
    {
     "data": {
      "text/html": [
       "<div>\n",
       "<style scoped>\n",
       "    .dataframe tbody tr th:only-of-type {\n",
       "        vertical-align: middle;\n",
       "    }\n",
       "\n",
       "    .dataframe tbody tr th {\n",
       "        vertical-align: top;\n",
       "    }\n",
       "\n",
       "    .dataframe thead th {\n",
       "        text-align: right;\n",
       "    }\n",
       "</style>\n",
       "<table border=\"1\" class=\"dataframe\">\n",
       "  <thead>\n",
       "    <tr style=\"text-align: right;\">\n",
       "      <th></th>\n",
       "      <th>0</th>\n",
       "      <th>1</th>\n",
       "      <th>2</th>\n",
       "      <th>3</th>\n",
       "      <th>4</th>\n",
       "      <th>5</th>\n",
       "      <th>6</th>\n",
       "      <th>7</th>\n",
       "      <th>8</th>\n",
       "      <th>9</th>\n",
       "    </tr>\n",
       "  </thead>\n",
       "  <tbody>\n",
       "    <tr>\n",
       "      <th>mdma</th>\n",
       "      <td>(amfetamine, 0.8705504536628723)</td>\n",
       "      <td>(methamfetamine, 0.8429946303367615)</td>\n",
       "      <td>(ketamine, 0.840532124042511)</td>\n",
       "      <td>(xtc, 0.8359721302986145)</td>\n",
       "      <td>(mdma,, 0.8297138214111328)</td>\n",
       "      <td>(cocaïne,, 0.822767972946167)</td>\n",
       "      <td>(partydrug, 0.8208773732185364)</td>\n",
       "      <td>(xtc,, 0.8182334899902344)</td>\n",
       "      <td>(fentanyl, 0.8048309087753296)</td>\n",
       "      <td>(meth, 0.8022823929786682)</td>\n",
       "    </tr>\n",
       "  </tbody>\n",
       "</table>\n",
       "</div>"
      ],
      "text/plain": [
       "                                     0                                     1  \\\n",
       "mdma  (amfetamine, 0.8705504536628723)  (methamfetamine, 0.8429946303367615)   \n",
       "\n",
       "                                  2                          3  \\\n",
       "mdma  (ketamine, 0.840532124042511)  (xtc, 0.8359721302986145)   \n",
       "\n",
       "                                4                               5  \\\n",
       "mdma  (mdma,, 0.8297138214111328)  (cocaïne,, 0.822767972946167)   \n",
       "\n",
       "                                    6                           7  \\\n",
       "mdma  (partydrug, 0.8208773732185364)  (xtc,, 0.8182334899902344)   \n",
       "\n",
       "                                   8                           9  \n",
       "mdma  (fentanyl, 0.8048309087753296)  (meth, 0.8022823929786682)  "
      ]
     },
     "execution_count": 16,
     "metadata": {},
     "output_type": "execute_result"
    }
   ],
   "source": [
    "pd.DataFrame(sims).T"
   ]
  },
  {
   "cell_type": "code",
   "execution_count": null,
   "id": "28cdb7b4",
   "metadata": {},
   "outputs": [],
   "source": []
  },
  {
   "cell_type": "code",
   "execution_count": null,
   "id": "76b2797d",
   "metadata": {},
   "outputs": [],
   "source": []
  }
 ],
 "metadata": {
  "kernelspec": {
   "display_name": "Python 3 (ipykernel)",
   "language": "python",
   "name": "python3"
  },
  "language_info": {
   "codemirror_mode": {
    "name": "ipython",
    "version": 3
   },
   "file_extension": ".py",
   "mimetype": "text/x-python",
   "name": "python",
   "nbconvert_exporter": "python",
   "pygments_lexer": "ipython3",
   "version": "3.10.9"
  }
 },
 "nbformat": 4,
 "nbformat_minor": 5
}
