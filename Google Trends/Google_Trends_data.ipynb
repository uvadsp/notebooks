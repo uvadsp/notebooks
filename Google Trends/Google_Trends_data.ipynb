{
 "cells": [
  {
   "cell_type": "code",
   "execution_count": 1161,
   "id": "2bb9dc82",
   "metadata": {},
   "outputs": [],
   "source": [
    "import warnings\n",
    "warnings.filterwarnings(\"ignore\")\n",
    "\n",
    "import pytrends \n",
    "from pytrends.request import TrendReq\n",
    "\n",
    "import pandas as pd\n",
    "import plotly.express as px\n",
    "\n",
    "from statsmodels.stats.proportion import proportions_ztest\n",
    "\n",
    "from datetime import timedelta, datetime\n",
    "from scipy.signal import find_peaks\n",
    "import numpy as np\n",
    "\n",
    "import matplotlib.pyplot as plt\n"
   ]
  },
  {
   "cell_type": "markdown",
   "id": "efb66156",
   "metadata": {},
   "source": [
    "### Functions"
   ]
  },
  {
   "cell_type": "code",
   "execution_count": 1162,
   "id": "33f280f7",
   "metadata": {},
   "outputs": [],
   "source": [
    "def get_google_trends(start_year, end_year, drug):\n",
    "\n",
    "    pytrends = TrendReq() \n",
    "    pytrends.build_payload([drug], cat=0, timeframe=f'{start_year}-01-18 {end_year}-01-18', geo='NL') \n",
    "\n",
    "    data = pytrends.interest_over_time() #.drop('isPartial', axis=1)\n",
    "        \n",
    "    data['date']=data.index\n",
    "    data['week'] = data.date.apply(lambda x: x.strftime('%U')).astype(int)\n",
    "    data['year'] = data.date.apply(lambda x: x.strftime('%Y')) \n",
    "    data['week_end'] = data['date'] + pd.DateOffset(days=6)\n",
    "    \n",
    "    return data"
   ]
  },
  {
   "cell_type": "code",
   "execution_count": 1163,
   "id": "04230a16",
   "metadata": {},
   "outputs": [],
   "source": [
    "def read_data_from_csv(drug):\n",
    "    data=pd.read_csv(f'{drug}_2023.csv')\n",
    "    \n",
    "    data.columns=[drug]\n",
    "    data=data.iloc[1: , :]\n",
    "\n",
    "    data[drug] = data[drug].astype(int)\n",
    "    data['date'] = pd.to_datetime(data.index).date\n",
    "    data['week'] = data.date.apply(lambda x: x.strftime('%U')).astype(int)\n",
    "    data['year'] = data.date.apply(lambda x: x.strftime('%Y')) \n",
    "    data['week_end'] = data['date'] + pd.DateOffset(days=6)\n",
    "    data['week_start']=pd.to_datetime(data.date)\n",
    "    data['date'] = data.date.apply(lambda x: x.strftime(\"%Y-%m-%d\"))\n",
    "    \n",
    "    return data"
   ]
  },
  {
   "cell_type": "code",
   "execution_count": 1164,
   "id": "3a01bb69",
   "metadata": {},
   "outputs": [],
   "source": [
    "def get_kingsday_date(year):\n",
    "    return pd.to_datetime(f\"27-04-{year}\")\n",
    "\n",
    "def get_nye_date(year):\n",
    "    return pd.to_datetime(f\"31-12-{year}\")\n",
    "\n",
    "def get_ADE_date(year):\n",
    "    dates = pd.read_csv('ADE.csv', ',', index_col=0)\n",
    "    date = dates.at[int(year), 'date']\n",
    "    return pd.to_datetime(f\"{date}-{year}\")\n",
    "\n",
    "def get_lowlands_date(year):\n",
    "    dates = pd.read_csv('Lowlands.csv', ',', index_col=0)\n",
    "    date = dates.at[int(year), 'date']\n",
    "    return pd.to_datetime(f\"{date}-{year}\")\n",
    "\n",
    "def get_pride_date(year):\n",
    "    dates = pd.read_csv('Pride.csv', ',', index_col=0)\n",
    "    date = dates.at[int(year), 'date']\n",
    "    return pd.to_datetime(f\"{date}-{year}\")"
   ]
  },
  {
   "cell_type": "code",
   "execution_count": 1165,
   "id": "68b1711b",
   "metadata": {},
   "outputs": [],
   "source": [
    "def test_hypothesis(sample_size, null_hypothesis, event, significance=0.05):\n",
    "    sample_success = data[f'{event}_peak'].sum()\n",
    "    stat, p_value = proportions_ztest(count=sample_success, nobs=sample_size, value=null_hypothesis, alternative='larger')\n",
    "    \n",
    "    if p_value > significance:\n",
    "        outcome='FAIL to reject H0'\n",
    "    else:\n",
    "        outcome='REJECT H0'\n",
    "    return stat, p_value, outcome"
   ]
  },
  {
   "cell_type": "code",
   "execution_count": 1166,
   "id": "2b219ae9",
   "metadata": {},
   "outputs": [],
   "source": [
    "def test_event(event, results, sample_size, null_hypothesis):\n",
    "    results[event]={}\n",
    "\n",
    "    results[event]['stat'], results[event]['p_value'],  results[event]['outcome'] = \\\n",
    "    test_hypothesis(sample_size, null_hypothesis,event)\n",
    "    \n",
    "    return results"
   ]
  },
  {
   "cell_type": "code",
   "execution_count": 1167,
   "id": "e220b216",
   "metadata": {},
   "outputs": [],
   "source": [
    "def get_google_trends_per_year(year, drug):\n",
    "\n",
    "    pytrends = TrendReq() \n",
    "    pytrends.build_payload([drug], cat=0, timeframe=f'{year}-01-01 {year}-12-31', geo='NL') \n",
    "\n",
    "    data = pytrends.interest_over_time() #.drop('isPartial', axis=1)\n",
    "        \n",
    "    data['date']=data.index\n",
    "    data['week'] = data.date.apply(lambda x: x.strftime('%U')).astype(int)\n",
    "    data['year'] = data.date.apply(lambda x: x.strftime('%Y')) \n",
    "    data['week_end'] = data['date'] + pd.DateOffset(days=6)\n",
    "    \n",
    "    return data"
   ]
  },
  {
   "cell_type": "markdown",
   "id": "215bbea7",
   "metadata": {},
   "source": [
    "### Define search"
   ]
  },
  {
   "cell_type": "code",
   "execution_count": 1168,
   "id": "c80ee0ff",
   "metadata": {},
   "outputs": [],
   "source": [
    "drug = 'GHB+ghb'"
   ]
  },
  {
   "cell_type": "markdown",
   "id": "0f076574",
   "metadata": {},
   "source": [
    "### Load data"
   ]
  },
  {
   "cell_type": "code",
   "execution_count": 1174,
   "id": "145b1335",
   "metadata": {},
   "outputs": [],
   "source": [
    "data1 = get_google_trends(2014, 2018, drug)\n",
    "data2 = get_google_trends(2018, 2023, drug)\n",
    "data=pd.concat([data1, data2])\n",
    "\n",
    "# Make relative data per year\n",
    "#data_per_year = pd.DataFrame()\n",
    "#for year in range(2018, 2023):\n",
    "    #data_year = get_google_trends_per_year(year, drug)\n",
    "    #data_year = data_year[[\"year\", \"week\", drug]].set_index(['year'])\n",
    "    #data_year = data_year.rename(columns = {drug:'score'})\n",
    "    #data_per_year = data_per_year.append(data_year)\n",
    "#data_per_year\n",
    "#data_year.to_csv(f'{drug}_per_year.csv')\n",
    "#data_year = data_year.set_index('week')\n",
    "#plt.plot(data_year['score'])\n",
    "#data.week.max()"
   ]
  },
  {
   "cell_type": "markdown",
   "id": "8ff04853",
   "metadata": {},
   "source": [
    "### Get peaks"
   ]
  },
  {
   "cell_type": "code",
   "execution_count": 1177,
   "id": "7d73d7d3",
   "metadata": {},
   "outputs": [],
   "source": [
    "peaks, _ = list(find_peaks(data[drug]))\n",
    "\n",
    "peak_values = data[drug][peaks]\n",
    "peak_weeks = data[drug][peaks].index\n",
    "\n",
    "data['is_peak'] = data.date.apply(lambda x: True if x in peak_weeks else False)"
   ]
  },
  {
   "cell_type": "code",
   "execution_count": 1178,
   "id": "19c81cbe",
   "metadata": {
    "scrolled": false
   },
   "outputs": [
    {
     "data": {
      "image/png": "[encoded data removed]",
      "text/plain": [
       "<Figure size 2000x800 with 1 Axes>"
      ]
     },
     "metadata": {},
     "output_type": "display_data"
    }
   ],
   "source": [
    "f = plt.figure()\n",
    "f.set_figwidth(20)\n",
    "f.set_figheight(8)\n",
    "\n",
    "#plot each series\n",
    "plt.plot(data[drug])\n",
    "plt.scatter(peak_weeks, peak_values, color='r')\n",
    "\n",
    "\n",
    "\n",
    "#display plot\n",
    "plt.show()"
   ]
  },
  {
   "cell_type": "markdown",
   "id": "05791ea9",
   "metadata": {},
   "source": [
    "### King's day"
   ]
  },
  {
   "cell_type": "code",
   "execution_count": 1032,
   "id": "01f61123",
   "metadata": {},
   "outputs": [],
   "source": [
    "data['Kings_day'] = data.year.apply(get_kingsday_date)\n",
    "data['is_kingsday_week'] = ((data['Kings_day']>=data.date) & (data['Kings_day']<=data.week_end))\n",
    "\n",
    "data['Kingsday_peak'] = ((data.is_kingsday_week==True) & (data.is_peak==True))"
   ]
  },
  {
   "cell_type": "markdown",
   "id": "cf16d324",
   "metadata": {},
   "source": [
    "### NYE"
   ]
  },
  {
   "cell_type": "code",
   "execution_count": 1033,
   "id": "36369573",
   "metadata": {},
   "outputs": [],
   "source": [
    "data['NYE'] = data.year.apply(get_nye_date)\n",
    "data['is_NYE_week'] = ((data['NYE']>=data.date) & (data['NYE']<=data.week_end))\n",
    "\n",
    "data['NYE_peak'] = ((data.is_NYE_week==True) & (data.is_peak==True))"
   ]
  },
  {
   "cell_type": "markdown",
   "id": "74c30777",
   "metadata": {},
   "source": [
    "### ADE"
   ]
  },
  {
   "cell_type": "code",
   "execution_count": 1034,
   "id": "785cf603",
   "metadata": {},
   "outputs": [],
   "source": [
    "data['ADE'] = data.year.apply(get_ADE_date)\n",
    "data['is_ADE_week'] = ((data['ADE']>=data.date) & (data['ADE']<=data.week_end))\n",
    "\n",
    "data['ADE_peak'] = ((data.is_ADE_week==True) & (data.is_peak==True))"
   ]
  },
  {
   "cell_type": "markdown",
   "id": "776b52ea",
   "metadata": {},
   "source": [
    "### Lowlands"
   ]
  },
  {
   "cell_type": "code",
   "execution_count": 1035,
   "id": "395e0bd2",
   "metadata": {},
   "outputs": [],
   "source": [
    "data['Lowlands'] = data.year.apply(get_lowlands_date)\n",
    "data['is_Lowlands_week'] = ((data['Lowlands']>=data.date) & (data['Lowlands']<=data.week_end))\n",
    "\n",
    "data['Lowlands_peak'] = ((data.is_Lowlands_week==True) & (data.is_peak==True))"
   ]
  },
  {
   "cell_type": "markdown",
   "id": "91687090",
   "metadata": {},
   "source": [
    "### Gay Pride Amsterdam"
   ]
  },
  {
   "cell_type": "code",
   "execution_count": 1036,
   "id": "e4c36800",
   "metadata": {},
   "outputs": [],
   "source": [
    "data['Pride'] = data.year.apply(get_pride_date)\n",
    "data['is_Pride_week'] = ((data['Pride']>=data.date) & (data['Pride']<=data.week_end))\n",
    "\n",
    "data['Pride_peak'] = ((data.is_Pride_week==True) & (data.is_peak==True))"
   ]
  },
  {
   "cell_type": "markdown",
   "id": "c58ffe88",
   "metadata": {},
   "source": [
    "### Each week "
   ]
  },
  {
   "cell_type": "code",
   "execution_count": 1037,
   "id": "11c341f4",
   "metadata": {},
   "outputs": [],
   "source": [
    "for week_num in range(1,53):\n",
    "    data[f'week_{week_num}_peak'] = False\n",
    "    for index, row in data.iterrows():\n",
    "        if ((data.loc[index].is_peak==True) & (data.loc[index].week==week_num)):\n",
    "            data.at[index, f'week_{week_num}_peak']=True"
   ]
  },
  {
   "cell_type": "markdown",
   "id": "f0be08dc",
   "metadata": {},
   "source": [
    "### CHECK and OUTPUT"
   ]
  },
  {
   "cell_type": "code",
   "execution_count": 1038,
   "id": "09b6e1d1",
   "metadata": {},
   "outputs": [
    {
     "name": "stdout",
     "output_type": "stream",
     "text": [
      "GHB+ghb\n"
     ]
    }
   ],
   "source": [
    "print(drug)\n",
    "data.to_csv(f'{drug}.csv')"
   ]
  },
  {
   "cell_type": "markdown",
   "id": "76b477aa",
   "metadata": {},
   "source": [
    "---"
   ]
  },
  {
   "cell_type": "markdown",
   "id": "c221802a",
   "metadata": {},
   "source": [
    "### Proportion test of week proportions\n",
    "\n",
    "- H0:\tNo difference between average of peaks for week X and the average of the other weeks  \n",
    "- H1:\tThere is difference"
   ]
  },
  {
   "cell_type": "code",
   "execution_count": 1039,
   "id": "37c53913",
   "metadata": {},
   "outputs": [],
   "source": [
    "# sample size\n",
    "year_count = data.year.nunique()-1\n",
    "\n",
    "# proportion\n",
    "prop = {}\n",
    "for week_num in range(1,53):\n",
    "    prop[f'Week {week_num}'] = data[f'week_{week_num}_peak'].sum()/year_count\n",
    "    \n",
    "weekly_prop = pd.DataFrame(data=prop.values(), index=prop.keys(), columns=['prop'])\n",
    "\n",
    "# porportion 0\n",
    "p_0 = weekly_prop.prop.mean()"
   ]
  },
  {
   "cell_type": "code",
   "execution_count": 1040,
   "id": "a73f8815",
   "metadata": {},
   "outputs": [
    {
     "data": {
      "text/html": [
       "<div>\n",
       "<style scoped>\n",
       "    .dataframe tbody tr th:only-of-type {\n",
       "        vertical-align: middle;\n",
       "    }\n",
       "\n",
       "    .dataframe tbody tr th {\n",
       "        vertical-align: top;\n",
       "    }\n",
       "\n",
       "    .dataframe thead th {\n",
       "        text-align: right;\n",
       "    }\n",
       "</style>\n",
       "<table border=\"1\" class=\"dataframe\">\n",
       "  <thead>\n",
       "    <tr style=\"text-align: right;\">\n",
       "      <th></th>\n",
       "      <th>Kingsday</th>\n",
       "      <th>NYE</th>\n",
       "      <th>ADE</th>\n",
       "      <th>Lowlands</th>\n",
       "      <th>Pride</th>\n",
       "    </tr>\n",
       "  </thead>\n",
       "  <tbody>\n",
       "    <tr>\n",
       "      <th>stat</th>\n",
       "      <td>2.284499</td>\n",
       "      <td>0.825625</td>\n",
       "      <td>1.496445</td>\n",
       "      <td>-1.876553</td>\n",
       "      <td>1.496445</td>\n",
       "    </tr>\n",
       "    <tr>\n",
       "      <th>p_value</th>\n",
       "      <td>0.011171</td>\n",
       "      <td>0.204508</td>\n",
       "      <td>0.067269</td>\n",
       "      <td>0.96971</td>\n",
       "      <td>0.067269</td>\n",
       "    </tr>\n",
       "    <tr>\n",
       "      <th>outcome</th>\n",
       "      <td>REJECT H0</td>\n",
       "      <td>FAIL to reject H0</td>\n",
       "      <td>FAIL to reject H0</td>\n",
       "      <td>FAIL to reject H0</td>\n",
       "      <td>FAIL to reject H0</td>\n",
       "    </tr>\n",
       "  </tbody>\n",
       "</table>\n",
       "</div>"
      ],
      "text/plain": [
       "          Kingsday                NYE                ADE           Lowlands  \\\n",
       "stat      2.284499           0.825625           1.496445          -1.876553   \n",
       "p_value   0.011171           0.204508           0.067269            0.96971   \n",
       "outcome  REJECT H0  FAIL to reject H0  FAIL to reject H0  FAIL to reject H0   \n",
       "\n",
       "                     Pride  \n",
       "stat              1.496445  \n",
       "p_value           0.067269  \n",
       "outcome  FAIL to reject H0  "
      ]
     },
     "execution_count": 1040,
     "metadata": {},
     "output_type": "execute_result"
    }
   ],
   "source": [
    "results={}\n",
    "events = ['Kingsday', 'NYE', 'ADE', 'Lowlands', 'Pride']\n",
    "\n",
    "for event in events:\n",
    "    results = test_event(event=event, \n",
    "               results=results, \n",
    "               sample_size=year_count, \n",
    "               null_hypothesis=p_0)\n",
    "\n",
    "test_results = pd.DataFrame(results)\n",
    "test_results"
   ]
  },
  {
   "cell_type": "code",
   "execution_count": 1041,
   "id": "59d36a71",
   "metadata": {},
   "outputs": [],
   "source": [
    "test_results.to_csv(f'{drug}_test_results.csv')"
   ]
  },
  {
   "cell_type": "code",
   "execution_count": null,
   "id": "f73ea735",
   "metadata": {},
   "outputs": [],
   "source": []
  }
 ],
 "metadata": {
  "kernelspec": {
   "display_name": "Python 3 (ipykernel)",
   "language": "python",
   "name": "python3"
  },
  "language_info": {
   "codemirror_mode": {
    "name": "ipython",
    "version": 3
   },
   "file_extension": ".py",
   "mimetype": "text/x-python",
   "name": "python",
   "nbconvert_exporter": "python",
   "pygments_lexer": "ipython3",
   "version": "3.8.5"
  }
 },
 "nbformat": 4,
 "nbformat_minor": 5
}
